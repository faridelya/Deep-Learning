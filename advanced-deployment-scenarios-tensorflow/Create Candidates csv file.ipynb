{
 "cells": [
  {
   "cell_type": "code",
   "execution_count": 1,
   "id": "4a5a4b80",
   "metadata": {},
   "outputs": [],
   "source": [
    "import pandas as pd\n",
    "import os"
   ]
  },
  {
   "cell_type": "code",
   "execution_count": 2,
   "id": "a3a8ea45",
   "metadata": {},
   "outputs": [],
   "source": [
    "folder = \"all\"\n",
    "\n",
    "def create_csv(folder, dup_show=False,rename_show=False):\n",
    "    cv_id = 50\n",
    "    counnt=[]\n",
    "    name =[]\n",
    "    idd=[]\n",
    "    dup_cunt=[]\n",
    "    \n",
    "    dup_name=[] # use for spliting file name from tupe and store here\n",
    "    dup_valu =[] # use for spliting count value fron tuple and store here\n",
    "    \n",
    "    pth = os.path.abspath(folder)\n",
    "    for i in os.listdir(pth):\n",
    "        counnt.append(i.split(\".\")[0].strip())\n",
    "\n",
    "    if len(counnt) == len(set(counnt)): # if no duplicate name of file will add to list\n",
    "        print(\"All unique filenames\")\n",
    "        for i in os.listdir(pth):\n",
    "            nme=i.split(\".\")[0].strip()\n",
    "            name.append(nme)\n",
    "            idd.append(cv_id)\n",
    "            cv_id +=1\n",
    "    else:\n",
    "        print(\"True duplicate filename exist\")\n",
    "        for i in os.listdir(pth): # if duplicate add name and count to dup_cunt list\n",
    "            \n",
    "            i =i.split(\".\")[0].strip()\n",
    "            a = counnt.count(i)\n",
    "            if a >1:\n",
    "                dup_cunt.append((i,a))\n",
    "                \n",
    "    dup_cunt = list(set(dup_cunt))\n",
    "    for i in dup_cunt:\n",
    "        dup_name.append(i[0])\n",
    "        dup_valu.append(i[1])\n",
    "        \n",
    "#     print(\"duplicate name \",dup_name)  \n",
    "#     print(\"duplicate count \",dup_valu,\"\\n\")   \n",
    "    \n",
    "    if dup_show == True:\n",
    "                print(\"\\n\",dup_cunt)\n",
    "    # renameing duplicate namefiles if we have then this will work\n",
    "    if len(dup_cunt)> 0: # if  duplicate count list has name of file and count \n",
    "\n",
    "        for i in os.listdir(pth): # loop on folder of files\n",
    "            file_name = i.split(\".\")[0].strip()    # file name only and remove start end spaces\n",
    "            ext = i.split(\".\")[1]                  # extension of file\n",
    "\n",
    "            if file_name in dup_name:              #if file name exist in duplicate count list\n",
    "#                 print(\"==>\", i)        \n",
    "                file_indx = dup_name.index(file_name) # index of file name in duplicate count list\n",
    "#                 print(\"file index \", file_indx)         \n",
    "                file_cunt = dup_valu[file_indx]       # get number of how may of these filename duplicates available\n",
    "#                 print(\"count index \",file_cunt)\n",
    "#                 print(\"count ==>\",file_cunt)\n",
    "                if file_cunt >1: # if file count is greater then 1 because if count is one we don't rename\n",
    "#                     print(\"renamed file  \",file_name) \n",
    "                    if rename_show ==True:\n",
    "                        print(\"renamed file  \",file_name+str(file_cunt)+\".\"+ext)\n",
    "                    os.rename(os.path.join(pth,i), os.path.join(pth, file_name+str(file_cunt)+\".\"+ext)) # rename file\n",
    "                    # minus 1 from count \n",
    "                    dup_valu[file_indx] = file_cunt-1  # minus 1 from count number\n",
    "#                     print(\"minus \",dup_valu[vlue_indx])\n",
    "#                     print(\"dup valu list \",dup_valu)\n",
    "                \n",
    "    if len(name)>1:\n",
    "        pass\n",
    "    else:\n",
    "        \n",
    "        for i in os.listdir(pth):\n",
    "            nme=i.split(\".\")[0].strip()\n",
    "            ext = i.split(\".\")[1] \n",
    "            os.rename(os.path.join(pth,i), os.path.join(pth, nme+\".\"+ext))\n",
    "            name.append(nme)\n",
    "            idd.append(cv_id)\n",
    "            cv_id +=1\n",
    "    df= pd.DataFrame( columns=['cvs_ids', 'full_name', 'email', 'candidate_address', 'cell_phone',\n",
    "       'skills', 'education', 'experience'])\n",
    "    df['full_name'] = name\n",
    "    df['cvs_ids'] = idd \n",
    "    df.to_csv(\"candidates_data.csv\" , index=False)\n",
    "  \n",
    "    return df\n",
    "\n"
   ]
  },
  {
   "cell_type": "code",
   "execution_count": 3,
   "id": "be4ed29e",
   "metadata": {
    "scrolled": false
   },
   "outputs": [
    {
     "name": "stdout",
     "output_type": "stream",
     "text": [
      "True duplicate filename exist\n"
     ]
    }
   ],
   "source": [
    "df = create_csv(folder = \"all\")"
   ]
  },
  {
   "cell_type": "code",
   "execution_count": 6,
   "id": "42fb8ee2",
   "metadata": {},
   "outputs": [
    {
     "data": {
      "text/plain": [
       "True"
      ]
     },
     "execution_count": 6,
     "metadata": {},
     "output_type": "execute_result"
    }
   ],
   "source": [
    "len(df['full_name'].unique()) == len(df['full_name'].unique())"
   ]
  },
  {
   "cell_type": "code",
   "execution_count": 64,
   "id": "ff9017de",
   "metadata": {},
   "outputs": [
    {
     "data": {
      "text/plain": [
       "[('sameer', 2), ('Ashish Patel', 2), ('Ashish Patel', 3)]"
      ]
     },
     "execution_count": 64,
     "metadata": {},
     "output_type": "execute_result"
    }
   ],
   "source": [
    "a =[('Ashish Patel', 3), ('Ashish Patel', 2), ('sameer', 2), ('sameer', 2)]\n",
    "list(set(a))"
   ]
  },
  {
   "cell_type": "code",
   "execution_count": 62,
   "id": "bd33bc93",
   "metadata": {},
   "outputs": [
    {
     "name": "stdout",
     "output_type": "stream",
     "text": [
      "0\n",
      "ok 0\n",
      "1\n",
      "ok 1\n",
      "2\n",
      "ok 2\n",
      "3\n",
      "4\n"
     ]
    }
   ],
   "source": [
    "a= 2\n",
    "for i in range(5):\n",
    "    print(i)\n",
    "    if i <3:\n",
    "        \n",
    "        print(\"ok\",i)"
   ]
  },
  {
   "cell_type": "code",
   "execution_count": 53,
   "id": "57a5b488",
   "metadata": {},
   "outputs": [
    {
     "data": {
      "text/plain": [
       "{1, 2, 3, 4, 6, 8, 'd'}"
      ]
     },
     "execution_count": 53,
     "metadata": {},
     "output_type": "execute_result"
    }
   ],
   "source": [
    "a= [\"d\",1,\"d\",1,1,2,3,3,4,8,6,6]\n",
    "set(a)"
   ]
  },
  {
   "cell_type": "code",
   "execution_count": 39,
   "id": "432fb91a",
   "metadata": {},
   "outputs": [
    {
     "data": {
      "text/plain": [
       "'/media/farid/ITS OK***/Ubuntu Data/USB Kamran/moazzam_100/Ashish Patel .docx'"
      ]
     },
     "execution_count": 39,
     "metadata": {},
     "output_type": "execute_result"
    }
   ],
   "source": [
    "os.path.join(os.path.abspath(folder), i)"
   ]
  },
  {
   "cell_type": "code",
   "execution_count": 108,
   "id": "ca6651fa",
   "metadata": {},
   "outputs": [
    {
     "data": {
      "text/plain": [
       "99"
      ]
     },
     "execution_count": 108,
     "metadata": {},
     "output_type": "execute_result"
    }
   ],
   "source": [
    "len(counnt)"
   ]
  },
  {
   "cell_type": "code",
   "execution_count": null,
   "id": "90d8f471",
   "metadata": {},
   "outputs": [],
   "source": []
  }
 ],
 "metadata": {
  "kernelspec": {
   "display_name": "Python 3 (ipykernel)",
   "language": "python",
   "name": "python3"
  },
  "language_info": {
   "codemirror_mode": {
    "name": "ipython",
    "version": 3
   },
   "file_extension": ".py",
   "mimetype": "text/x-python",
   "name": "python",
   "nbconvert_exporter": "python",
   "pygments_lexer": "ipython3",
   "version": "3.9.13"
  }
 },
 "nbformat": 4,
 "nbformat_minor": 5
}
