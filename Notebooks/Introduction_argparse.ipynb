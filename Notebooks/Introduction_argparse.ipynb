{
  "cells": [
    {
      "cell_type": "markdown",
      "metadata": {
        "id": "view-in-github",
        "colab_type": "text"
      },
      "source": [
        "<a href=\"https://colab.research.google.com/github/faridelya/Deep-Learning/blob/main/Notebooks/Introduction_argparse.ipynb\" target=\"_parent\"><img src=\"https://colab.research.google.com/assets/colab-badge.svg\" alt=\"Open In Colab\"/></a>"
      ]
    },
    {
      "cell_type": "markdown",
      "metadata": {
        "id": "OAaLh8ZrVygM"
      },
      "source": [
        "# Introduction to `argparse` - Part 1\n",
        "\n",
        "**Last Updated:** 2021-05-03\n",
        "\n",
        "In this module, you will be introduced to `argparse`, the built-in module that provides a framework for defining the command-line arguments in a **user-friendly manner**. The `argparse` module can be used to generate complicated command line interfaces (for more detail, see the [argparse documentation](https://docs.python.org/3/library/argparse.html)), but the intermediate-advanced use cases will be deferred to a later module. We will illustrate the basics of the module by applying it to a simple script."
      ]
    },
    {
      "cell_type": "markdown",
      "metadata": {
        "id": "rr70MslcVygV"
      },
      "source": [
        "## Table of Contents\n",
        "\n",
        "1. [Using This Notebook](#Using-This-Notebook)\n",
        "2. [Setting Up Argparse](#Setting-Up-argparse)\n",
        "3. [Adding Arguments](#Adding-Arguments)\n",
        "4. [Creating Help Documentation](#Creating-Help-Documentation)\n",
        "5. [Organizing Your Script](#Organizing-Your-Script)\n",
        "6. [Example Problem: Preparing Reading Details](#Example-Problem:-Preparing-Reading-Details)\n",
        "7. [Closing](#Closing)\n",
        "8. [Release Notes](#Release-Notes)"
      ]
    },
    {
      "cell_type": "markdown",
      "metadata": {
        "id": "wmncItCeVygW"
      },
      "source": [
        "## Using This Notebook\n",
        "\n",
        "The concept introduction sections of this notebook can be viewed *without interacting with any of the code cells*. If you wish to use the notebook in this manner, make sure you do not reset the kernel and clear all of the outputs. If you want to run the cells as you work through the notebook, **run the cells in the order that they appear in the notebook**. This notebook relies on the `%%writefile` magic function to save cells as a Python script and interatively update a single script file, `parsing.py`, so running the cells out of order may result in incorrect behavior due to using the incorrect version of the script.\n",
        "\n",
        "This notebook also contains an interactive example that you can use to test your understanding. All of the code required to solve the problem should be placed in the prepared code cell. Once you have prepared your solution code, run the code cell to save it as a Python script file. You can rerun this code to overwrite the script file to make changes. To check your solution, run the two code cells with an example command-line input and compare to the expected output."
      ]
    },
    {
      "cell_type": "markdown",
      "metadata": {
        "id": "rORw9Sr8VygX"
      },
      "source": [
        "## Setting Up `argparse`\n",
        "\n",
        "The `argparse` module is one of many available options to build command-line argument parsers. While other options provide more complex functionality, `argparse` provides almost all of the functionality for most projects and, because it is included with any Python installation, doesn't introduce new dependencies.\n",
        "\n",
        "Using `argparse` can be broken up into three steps:\n",
        "\n",
        "1. Defining the primary argument parser object\n",
        "2. Adding supported arguments to the argument parser object\n",
        "3. Using the final argument parser to parse command-line arguments.\n",
        "\n",
        "Let's start with the simplest argument paraser available: an argument parser that *doesn't* have any arguments."
      ]
    },
    {
      "cell_type": "code",
      "execution_count": null,
      "metadata": {
        "id": "GD1YFyAKVygY",
        "outputId": "b37a8ab2-2539-4a91-eb94-dd1e6c12aa47",
        "colab": {
          "base_uri": "https://localhost:8080/"
        }
      },
      "outputs": [
        {
          "output_type": "stream",
          "name": "stdout",
          "text": [
            "Writing parsing.py\n"
          ]
        }
      ],
      "source": [
        "%%writefile parsing.py\n",
        "##### SCRIPT STARTS HERE #####\n",
        "#!usr/bin/bash python\n",
        "\n",
        "import argparse\n",
        "\n",
        "# Define the ArgumentParser\n",
        "parser = argparse.ArgumentParser()\n",
        "\n",
        "# Indicate end of argument definitions and parse args\n",
        "parser.parse_args()"
      ]
    },
    {
      "cell_type": "markdown",
      "metadata": {
        "id": "eNb3eo5hVygb"
      },
      "source": [
        "This simple script covers the first and third step introduced above. When this script is called, nothing happens."
      ]
    },
    {
      "cell_type": "code",
      "execution_count": null,
      "metadata": {
        "id": "8pK-7lXuVygc"
      },
      "outputs": [],
      "source": [
        "!python3 parsing.py"
      ]
    },
    {
      "cell_type": "markdown",
      "metadata": {
        "id": "kmimwCkuVygd"
      },
      "source": [
        "However, just by utilizing the basic framework of `argparse`, you actually get a special \"help\" argument for free. By passing the `-h` argument, the script will automatically print out a nicely-formatted description of how to use the script and what arguments it accepts. In our case, we haven't introduced any new arguments, so all you will see is a description of the automatically provided `-h` argument."
      ]
    },
    {
      "cell_type": "code",
      "execution_count": null,
      "metadata": {
        "id": "EqN5MBAtVygd",
        "outputId": "4c53423d-2b29-4e4e-c5f5-b06812508b27",
        "colab": {
          "base_uri": "https://localhost:8080/"
        }
      },
      "outputs": [
        {
          "output_type": "stream",
          "name": "stdout",
          "text": [
            "usage: parsing.py\n",
            "       [-h]\n",
            "\n",
            "optional arguments:\n",
            "  -h, --help\n",
            "    show this\n",
            "    help\n",
            "    message and\n",
            "    exit\n"
          ]
        }
      ],
      "source": [
        "!python3 parsing.py -h"
      ]
    },
    {
      "cell_type": "markdown",
      "metadata": {
        "id": "kvTSHiTQVyge"
      },
      "source": [
        "The two lines introduced above are all you need for Step 1 and Step 3 of using `argparse`. The remainder of the module will explore the middle step: defining arguments."
      ]
    },
    {
      "cell_type": "markdown",
      "metadata": {
        "id": "QGDd8WbLVygf"
      },
      "source": [
        "## Adding Arguments\n",
        "\n",
        "Adding an argument to an `ArgumentParser` is done with a single method: the `add_argument()` method. While there's only a single method to adding an argument, there are various options you can provide to the method to customize your argument. Let's start with the simple example by defining a single argument, `arg1`."
      ]
    },
    {
      "cell_type": "code",
      "execution_count": null,
      "metadata": {
        "tags": [],
        "id": "ER5W3DWHVygg",
        "outputId": "cafdaae0-2733-437c-de73-b09366386d82",
        "colab": {
          "base_uri": "https://localhost:8080/"
        }
      },
      "outputs": [
        {
          "output_type": "stream",
          "name": "stdout",
          "text": [
            "Overwriting parsing.py\n"
          ]
        }
      ],
      "source": [
        "%%writefile parsing.py\n",
        "##### SCRIPT STARTS HERE #####\n",
        "#!usr/bin/bash python\n",
        "\n",
        "import argparse\n",
        "\n",
        "# Define the ArgumentParser\n",
        "parser = argparse.ArgumentParser()\n",
        "\n",
        "# Add arguments\n",
        "\n",
        "parser.add_argument(\"arg1\")\n",
        "\n",
        "# Indicate end of argument definitions and parse args\n",
        "args = parser.parse_args()\n",
        "\n",
        "# Access arguments by using dot syntax with their name\n",
        "print(args.arg1)"
      ]
    },
    {
      "cell_type": "code",
      "execution_count": null,
      "metadata": {
        "id": "sYTfNdymVygg",
        "outputId": "0ea07b57-56d7-41d7-d8cf-500ba6d362b7",
        "colab": {
          "base_uri": "https://localhost:8080/"
        }
      },
      "outputs": [
        {
          "output_type": "stream",
          "name": "stdout",
          "text": [
            "Argument 1\n"
          ]
        }
      ],
      "source": [
        "!python3 parsing.py \"Argument 1\""
      ]
    },
    {
      "cell_type": "markdown",
      "metadata": {
        "id": "1F_fy4dcVygh"
      },
      "source": [
        "With the addition of a single line of code, we can now accept a single argument that will be stored in the `args.arg1` variable! Now, let's try running this script *without passing* an argument."
      ]
    },
    {
      "cell_type": "code",
      "execution_count": null,
      "metadata": {
        "id": "B90VpBh1Vygh",
        "outputId": "27315f8b-7780-477e-b6cd-7cb8219bab02",
        "colab": {
          "base_uri": "https://localhost:8080/"
        }
      },
      "outputs": [
        {
          "output_type": "stream",
          "name": "stdout",
          "text": [
            "usage: parsing.py\n",
            "       [-h]\n",
            "       arg1\n",
            "parsing.py: error: the following arguments are required: arg1\n"
          ]
        }
      ],
      "source": [
        "!python3 parsing.py"
      ]
    },
    {
      "cell_type": "markdown",
      "metadata": {
        "id": "LxZVkjA4Vygi"
      },
      "source": [
        "### Positional Arguments"
      ]
    },
    {
      "cell_type": "markdown",
      "metadata": {
        "id": "gx-fjRvVVygi"
      },
      "source": [
        "You should see an error indicating that `arg1` is required. When we add an argument with names like `arg1`, we are creating a **positional argument**. Positional arguments are *required arguments*—you must pass in the same number of arguments as the number of positional arguments you added in your code. For example, let's extend this script by adding a second positional argument."
      ]
    },
    {
      "cell_type": "code",
      "execution_count": null,
      "metadata": {
        "id": "tJ8zCWdnVygj",
        "outputId": "d13194c0-dfbb-443a-da5d-ec8cfd0e213f"
      },
      "outputs": [
        {
          "name": "stdout",
          "output_type": "stream",
          "text": [
            "Overwriting parsing.py\n"
          ]
        }
      ],
      "source": [
        "%%writefile parsing.py\n",
        "##### SCRIPT STARTS HERE #####\n",
        "#!usr/bin/bash python\n",
        "\n",
        "import argparse\n",
        "\n",
        "# Define the ArgumentParser\n",
        "parser = argparse.ArgumentParser()\n",
        "\n",
        "# Add arguments\n",
        "\n",
        "parser.add_argument(\"arg1\")\n",
        "parser.add_argument(\"arg2\")\n",
        "\n",
        "# Indicate end of argument definitions and parse args\n",
        "args = parser.parse_args()\n",
        "\n",
        "# Access arguments by using dot syntax with their name\n",
        "print(\"Argument 1:\", args.arg1)\n",
        "print(\"Argument 2:\", args.arg2)"
      ]
    },
    {
      "cell_type": "code",
      "execution_count": null,
      "metadata": {
        "id": "Tmnl2oOfVygk",
        "outputId": "d188eb92-9faa-44a5-dc43-634a407e6e93"
      },
      "outputs": [
        {
          "name": "stdout",
          "output_type": "stream",
          "text": [
            "Argument 1: arg1\n",
            "Argument 2: arg2\n"
          ]
        }
      ],
      "source": [
        "!python3 parsing.py \"arg1\" \"arg2\""
      ]
    },
    {
      "cell_type": "markdown",
      "metadata": {
        "id": "sUZXoYhIVygm"
      },
      "source": [
        "The reason why these types of arguments are named positional arguments is **the order that you submit the argument matter**. The first argument you pass corresponds to the first positional argument you created in your script and so on."
      ]
    },
    {
      "cell_type": "code",
      "execution_count": null,
      "metadata": {
        "id": "_9Fm4A9HVygn",
        "outputId": "05f710ba-1041-4482-85e6-bc6f36917d00"
      },
      "outputs": [
        {
          "name": "stdout",
          "output_type": "stream",
          "text": [
            "Argument 1: arg2\n",
            "Argument 2: arg1\n"
          ]
        }
      ],
      "source": [
        "# Flipped names to show that the order matters\n",
        "!python3 parsing.py \"arg2\" \"arg1\""
      ]
    },
    {
      "cell_type": "markdown",
      "metadata": {
        "id": "ApQaRCIXVygn"
      },
      "source": [
        "By default, arguments are stored as *strings*. To store the arguments as a different type, such as an `int`, you can pass a `type` argument to `add_argument()`. Now that the parser knows what type to expect, it can ensure that any command-line arguments can be converted correctly. If the argument cannot be converted (e.g., if you pass \"1a\" to an integer argument\", the script will raise an error."
      ]
    },
    {
      "cell_type": "code",
      "execution_count": null,
      "metadata": {
        "id": "BXWI3qFHVygo",
        "outputId": "1b96f810-7439-44d1-9370-064666bb0e03"
      },
      "outputs": [
        {
          "name": "stdout",
          "output_type": "stream",
          "text": [
            "Overwriting parsing.py\n"
          ]
        }
      ],
      "source": [
        "%%writefile parsing.py\n",
        "##### SCRIPT STARTS HERE #####\n",
        "#!usr/bin/bash python\n",
        "\n",
        "import argparse\n",
        "\n",
        "# Define the ArgumentParser\n",
        "parser = argparse.ArgumentParser()\n",
        "\n",
        "# Add arguments\n",
        "\n",
        "parser.add_argument(\"arg1\", type=int)\n",
        "parser.add_argument(\"arg2\")\n",
        "\n",
        "# Indicate end of argument definitions and parse args\n",
        "args = parser.parse_args()\n",
        "\n",
        "# Access arguments by using dot syntax with their name\n",
        "print(\"Argument 1:\", args.arg1)\n",
        "print(\"Argument 2:\", args.arg2)"
      ]
    },
    {
      "cell_type": "code",
      "execution_count": null,
      "metadata": {
        "id": "pGtS2V0rVygp",
        "outputId": "f4782e9b-c337-433b-d573-dde4a928e27d"
      },
      "outputs": [
        {
          "name": "stdout",
          "output_type": "stream",
          "text": [
            "Argument 1: 5\n",
            "Argument 2: arg2\n"
          ]
        }
      ],
      "source": [
        "# Example of a correct call\n",
        "!python3 parsing.py 5 \"arg2\""
      ]
    },
    {
      "cell_type": "code",
      "execution_count": null,
      "metadata": {
        "id": "kEnlnifcVygp",
        "outputId": "bd42bdd4-dc8a-4fd4-b025-b51a97125fda"
      },
      "outputs": [
        {
          "name": "stdout",
          "output_type": "stream",
          "text": [
            "usage: parsing.py [-h] arg1 arg2\n",
            "parsing.py: error: argument arg1: invalid int value: '5a'\n"
          ]
        }
      ],
      "source": [
        "# Example of an argument that doesn't match the stated type\n",
        "!python3 parsing.py \"5a\" \"arg2\""
      ]
    },
    {
      "cell_type": "markdown",
      "metadata": {
        "id": "uHxB6jvxVygp"
      },
      "source": [
        "### Optional Arguments\n",
        "\n",
        "In addition to positional arguments, there is second type of argument: the **optional argument**. As the name suggests, optional arguments *do not need to be passed when a script is called*. Instead, you use an optional argument by passing in a name-value pair (e.g., `-arg value`). To indicate that an argument is optional, you append a `-` to a short name (e.g., a single letter) and a `--` to a long name (e.g., word). By convention, you should have both a short and long name for an optional argument."
      ]
    },
    {
      "cell_type": "code",
      "execution_count": null,
      "metadata": {
        "id": "GwogX71nVygq",
        "outputId": "4150103a-aa11-4e2b-a781-3b6185b1cb39"
      },
      "outputs": [
        {
          "name": "stdout",
          "output_type": "stream",
          "text": [
            "Overwriting parsing.py\n"
          ]
        }
      ],
      "source": [
        "%%writefile parsing.py\n",
        "##### SCRIPT STARTS HERE #####\n",
        "#!usr/bin/bash python\n",
        "\n",
        "import argparse\n",
        "\n",
        "# Define the ArgumentParser\n",
        "parser = argparse.ArgumentParser()\n",
        "\n",
        "# Add arguments\n",
        "\n",
        "parser.add_argument(\"arg1\", type=int)\n",
        "parser.add_argument(\"-arg2\", \"--argument2\")\n",
        "\n",
        "# Indicate end of argument definitions and parse args\n",
        "args = parser.parse_args()\n",
        "\n",
        "# Access positional by using dot syntax with their name\n",
        "print(\"Argument 1:\", args.arg1)\n",
        "\n",
        "# Access optional arguments by the long name\n",
        "# An optional argument will have a None value if no argument is passed\n",
        "# so you can use an if statement directly\n",
        "if args.argument2:\n",
        "    print(\"Argument 2:\", args.argument2)"
      ]
    },
    {
      "cell_type": "code",
      "execution_count": null,
      "metadata": {
        "id": "7aIeI6QgVygq",
        "outputId": "148c48dd-3a09-4c43-ce56-ae1c03b5c158"
      },
      "outputs": [
        {
          "name": "stdout",
          "output_type": "stream",
          "text": [
            "Argument 1: 5\n",
            "Argument 1: 5\n",
            "Argument 2: Optional Argument\n"
          ]
        }
      ],
      "source": [
        "# You don't have to include optional arguments\n",
        "!python3 parsing.py 5\n",
        "\n",
        "# Use short or long name and then the value for optional arguments\n",
        "!python3 parsing.py 5 -arg2 \"Optional Argument\""
      ]
    },
    {
      "cell_type": "markdown",
      "metadata": {
        "id": "af18amrCVygr"
      },
      "source": [
        "One common use for optional arguments is to use them as *flags* that are either true or false. While you could use set the type of the argument to `type=bool` and use it as `-argument True`, `argparse` provides a shortcut for this use case. You first pass the `action=\"store_true\"` argument to `add_argument()` to let `argparse` know that you want a flag-like behavior. Then, you pass only the argument's name instead of the default name-value pair when calling the script."
      ]
    },
    {
      "cell_type": "code",
      "execution_count": null,
      "metadata": {
        "id": "wKD9HojeVygr",
        "outputId": "ef980d98-5331-4ea3-ebfe-8434a391f0b6"
      },
      "outputs": [
        {
          "name": "stdout",
          "output_type": "stream",
          "text": [
            "Overwriting parsing.py\n"
          ]
        }
      ],
      "source": [
        "%%writefile parsing.py\n",
        "##### SCRIPT STARTS HERE #####\n",
        "#!usr/bin/bash python\n",
        "\n",
        "import argparse\n",
        "\n",
        "# Define the ArgumentParser\n",
        "parser = argparse.ArgumentParser()\n",
        "\n",
        "# Add arguments\n",
        "\n",
        "parser.add_argument(\"arg1\", type=int)\n",
        "parser.add_argument(\"-arg2\", \"--argument2\")\n",
        "parser.add_argument(\"-f\", \"--flag\", action=\"store_true\")\n",
        "\n",
        "# Indicate end of argument definitions and parse args\n",
        "args = parser.parse_args()\n",
        "\n",
        "# Access positional by using dot syntax with their name\n",
        "print(\"Argument 1:\", args.arg1)\n",
        "\n",
        "# Access optional arguments by the long name\n",
        "# An optional argument will have a None value if no argument is passed\n",
        "# so you can use an if statement directly\n",
        "if args.argument2:\n",
        "    print(\"Argument 2:\", args.argument2)\n",
        "    \n",
        "if args.flag:\n",
        "    print(\"You passed a flag!\")"
      ]
    },
    {
      "cell_type": "code",
      "execution_count": null,
      "metadata": {
        "id": "yl7o3GjTVygr",
        "outputId": "6d5036b0-58fa-4bd3-9fa2-27497875811b"
      },
      "outputs": [
        {
          "name": "stdout",
          "output_type": "stream",
          "text": [
            "Argument 1: 5\n",
            "Argument 2: Optional Argument\n",
            "You passed a flag!\n"
          ]
        }
      ],
      "source": [
        "!python3 parsing.py 5 -arg2 \"Optional Argument\" -f"
      ]
    },
    {
      "cell_type": "markdown",
      "metadata": {
        "id": "3GYaHbf8Vygs"
      },
      "source": [
        "## Creating Help Documentation\n",
        "\n",
        "Recall that just using the `argparse` module automatically provides a useful `-h`, `--help` option that will print out a description of all of the arguments the script can accept. Let's see what this help text looks like now that we added multiple arguments:"
      ]
    },
    {
      "cell_type": "code",
      "execution_count": null,
      "metadata": {
        "id": "F9aBTW3mVygs",
        "outputId": "23b99e60-d409-4f31-eaaf-1199ba14d77f"
      },
      "outputs": [
        {
          "name": "stdout",
          "output_type": "stream",
          "text": [
            "usage: parsing.py [-h] [-arg2 ARGUMENT2] [-f] arg1\n",
            "\n",
            "positional arguments:\n",
            "  arg1\n",
            "\n",
            "optional arguments:\n",
            "  -h, --help            show this help message and exit\n",
            "  -arg2 ARGUMENT2, --argument2 ARGUMENT2\n",
            "  -f, --flag\n"
          ]
        }
      ],
      "source": [
        "!python3 parsing.py -h"
      ]
    },
    {
      "cell_type": "markdown",
      "metadata": {
        "id": "Stge_zzPVygs"
      },
      "source": [
        "Notice that the provided `-h` option also comes with a useful description while our new arugments don't. We can add a descriptive text for each of our arguments by passing a `help=\"String\"` argument to `add_argument()`."
      ]
    },
    {
      "cell_type": "code",
      "execution_count": null,
      "metadata": {
        "id": "OruieMokVygt",
        "outputId": "bb006438-d07b-4c81-e310-87975b8d8cf9"
      },
      "outputs": [
        {
          "name": "stdout",
          "output_type": "stream",
          "text": [
            "Overwriting parsing.py\n"
          ]
        }
      ],
      "source": [
        "%%writefile parsing.py\n",
        "##### SCRIPT STARTS HERE #####\n",
        "#!usr/bin/bash python\n",
        "\n",
        "import argparse\n",
        "\n",
        "# Define the ArgumentParser\n",
        "parser = argparse.ArgumentParser()\n",
        "\n",
        "# Add arguments\n",
        "\n",
        "parser.add_argument(\"arg1\", type=int, help=\"An integer to print\")\n",
        "parser.add_argument(\"-arg2\", \"--argument2\", help=\"A string to print\")\n",
        "parser.add_argument(\"-f\", \"--flag\", action=\"store_true\", help=\"Just a flag\")\n",
        "\n",
        "# Indicate end of argument definitions and parse args\n",
        "args = parser.parse_args()\n",
        "\n",
        "# Access positional by using dot syntax with their name\n",
        "print(\"Argument 1:\", args.arg1)\n",
        "\n",
        "# Access optional arguments by the long name\n",
        "# An optional argument will have a None value if no argument is passed\n",
        "# so you can use an if statement directly\n",
        "if args.argument2:\n",
        "    print(\"Argument 2:\", args.argument2)\n",
        "    \n",
        "if args.flag:\n",
        "    print(\"You passed a flag!\")"
      ]
    },
    {
      "cell_type": "code",
      "execution_count": null,
      "metadata": {
        "id": "FOL5Y9T6Vygt",
        "outputId": "8f2f6a77-31f9-49c8-a5a1-311f3cba1695"
      },
      "outputs": [
        {
          "name": "stdout",
          "output_type": "stream",
          "text": [
            "usage: parsing.py [-h] [-arg2 ARGUMENT2] [-f] arg1\n",
            "\n",
            "positional arguments:\n",
            "  arg1                  An integer to print\n",
            "\n",
            "optional arguments:\n",
            "  -h, --help            show this help message and exit\n",
            "  -arg2 ARGUMENT2, --argument2 ARGUMENT2\n",
            "                        A string to print\n",
            "  -f, --flag            Just a flag\n"
          ]
        }
      ],
      "source": [
        "!python3 parsing.py -h"
      ]
    },
    {
      "cell_type": "markdown",
      "metadata": {
        "id": "-EyUfsGYVygu"
      },
      "source": [
        "We now have customized the help text to 1) lists all of the arguments and 2) describes what the arguments do. Lastly, we can add a description of the entire script by passing a `description=\"String\"` argument to initialization method, `argparse.ArgumentParser()`."
      ]
    },
    {
      "cell_type": "code",
      "execution_count": null,
      "metadata": {
        "id": "MLqcaaoMVygw",
        "outputId": "9ccce55c-761d-4a4d-ceb3-95484c791f17"
      },
      "outputs": [
        {
          "name": "stdout",
          "output_type": "stream",
          "text": [
            "Overwriting parsing.py\n"
          ]
        }
      ],
      "source": [
        "%%writefile parsing.py\n",
        "##### SCRIPT STARTS HERE #####\n",
        "#!usr/bin/bash python\n",
        "\n",
        "import argparse\n",
        "\n",
        "# Define the ArgumentParser\n",
        "parser = argparse.ArgumentParser(description=\"This is an example of argparse!\")\n",
        "\n",
        "# Add arguments\n",
        "\n",
        "parser.add_argument(\"arg1\", type=int, help=\"An integer to print\")\n",
        "parser.add_argument(\"-arg2\", \"--argument2\", help=\"A string to print\")\n",
        "parser.add_argument(\"-f\", \"--flag\", action=\"store_true\", help=\"Just a flag\")\n",
        "\n",
        "# Indicate end of argument definitions and parse args\n",
        "args = parser.parse_args()\n",
        "\n",
        "# Access positional by using dot syntax with their name\n",
        "print(\"Argument 1:\", args.arg1)\n",
        "\n",
        "# Access optional arguments by the long name\n",
        "# An optional argument will have a None value if no argument is passed\n",
        "# so you can use an if statement directly\n",
        "if args.argument2:\n",
        "    print(\"Argument 2:\", args.argument2)\n",
        "    \n",
        "if args.flag:\n",
        "    print(\"You passed a flag!\")"
      ]
    },
    {
      "cell_type": "code",
      "execution_count": null,
      "metadata": {
        "id": "c1VC1H3CVygx",
        "outputId": "ab93314f-705c-46e0-d006-008d900658dc"
      },
      "outputs": [
        {
          "name": "stdout",
          "output_type": "stream",
          "text": [
            "usage: parsing.py [-h] [-arg2 ARGUMENT2] [-f] arg1\n",
            "\n",
            "This is an example of argparse!\n",
            "\n",
            "positional arguments:\n",
            "  arg1                  An integer to print\n",
            "\n",
            "optional arguments:\n",
            "  -h, --help            show this help message and exit\n",
            "  -arg2 ARGUMENT2, --argument2 ARGUMENT2\n",
            "                        A string to print\n",
            "  -f, --flag            Just a flag\n"
          ]
        }
      ],
      "source": [
        "!python3 parsing.py -h"
      ]
    },
    {
      "cell_type": "markdown",
      "metadata": {
        "id": "ur9Ya1LcVygx"
      },
      "source": [
        "## Organizing Your Script\n",
        "\n",
        "That covers all of the basic functions for using `argparse`! However, `argparse` is usually only a small part of a larger script. Let's quickly walk through a simple way of organizing your `argparse` code with the rest of a Python script. For most Python scripts that you call directly on the command-line, the primary functionality is usually encompassed within a `main()` method using the following basic layout:\n",
        "\n",
        "```python\n",
        "def main():\n",
        "    # Put neccessary functions here!\n",
        "\n",
        "if __name__ == \"__main__\":\n",
        "    main()\n",
        "```\n",
        "\n",
        "When working with `argparse`, you can separate out the code for building the parser into a helper function to create more modular code that can scale with increased complexity:\n",
        "\n",
        "```python\n",
        "import argparse\n",
        "\n",
        "def arg_parser():\n",
        "    \"\"\" Parse command line arguments\n",
        "\n",
        "    Outputs:\n",
        "        arguments {object} -- object containing command line arguments\n",
        "    \"\"\"\n",
        "\t\n",
        "\t# Initializer\n",
        "    parser = argparse.ArgumentParser()\n",
        "    \n",
        "    # Add arguments here\n",
        "    parser.add_argument('arg_name')\n",
        "    \n",
        "    # Parse and return arguments\n",
        "    return(parser.parse_args())\n",
        "\n",
        "def main():\n",
        "    args = arg_parser()\n",
        "\n",
        "if __name__ == \"__main__\":\n",
        "    main()\n",
        "```"
      ]
    },
    {
      "cell_type": "markdown",
      "metadata": {
        "id": "QmQqtGSdVygy"
      },
      "source": [
        "Now that we have covered the basics of using `argparse` and how it can fit within the organizing of a more complex script, you can use the example problem below to test your understanding."
      ]
    },
    {
      "cell_type": "markdown",
      "metadata": {
        "id": "TDFpvWl7Vygy"
      },
      "source": [
        "## Example Problem: Preparing Reading Details\n",
        "\n",
        "Please design a simple script, called `reading_details.py`, in the code cell below that does the following:\n",
        "\n",
        "1. Accepts four arguments: a book title (string), a book author (string), and a reading count (integer), and an optional single-word evaluation of the bbook.\n",
        "2. Prints a description of a book title, book author, and the number of times you have read the book (e.g., \"I have read The Paper Menagerie and Other Stories by Ken Liu 3 times.\"\n",
        "3. Optionally print a sentence with a single word description (\"The book was {great}.\") \n",
        "3. Provides documentation about each argument and usage using built-in help option.\n",
        "\n",
        "An example solution script, labeled `reading_details_solution.py` is located [in the same folder as this notebook](https://github.com/anthony-agbay/introduction-to-python/blob/main/modules/introduction-argparse-pt1/reading_details_solution.py)."
      ]
    },
    {
      "cell_type": "code",
      "execution_count": null,
      "metadata": {
        "id": "aQhhQCoXVygz"
      },
      "outputs": [],
      "source": [
        "%%writefile reading_details.py\n",
        "##### SCRIPT STARTS HERE #####\n",
        "#!usr/bin/bash python\n",
        "\n",
        "### FILL IN THE CELL BELOW WITH YOUR SOLUTION"
      ]
    },
    {
      "cell_type": "markdown",
      "metadata": {
        "id": "8y2uXSQ-Vygz"
      },
      "source": [
        "If your script is correct, the cell bellow should evaluate to:\n",
        "\n",
        "```\n",
        "I have read Dune by Frank Herbert 5 times.\n",
        "```"
      ]
    },
    {
      "cell_type": "code",
      "execution_count": null,
      "metadata": {
        "id": "H0BIF2dHVygz"
      },
      "outputs": [],
      "source": [
        "!python3 reading_details.py \"Dune\" \"Frank Herbert\" 5"
      ]
    },
    {
      "cell_type": "markdown",
      "metadata": {
        "id": "4jp1210dVyg0"
      },
      "source": [
        "If your script is correct, the cell bellow should evaluate to:\n",
        "\n",
        "```\n",
        "I have read The Paper Menagerie and Other Stories by Ken Liu 2 times.\n",
        "The book was amazing.\n",
        "```"
      ]
    },
    {
      "cell_type": "code",
      "execution_count": null,
      "metadata": {
        "id": "zDmEPr4WVyg0"
      },
      "outputs": [],
      "source": [
        "!python3 reading_details.py \"The Paper Menagerie and Other Stories\" \"Ken Liu\" 2 -d \"amazing\""
      ]
    },
    {
      "cell_type": "markdown",
      "metadata": {
        "id": "lAM81pYnVyg1"
      },
      "source": [
        "## Closing\n",
        "\n",
        "The `argparse` package is a powerful tool for creating command-line interafaces that aceept command-line arguments. With a few lines of codes, you can implement a script that checks for specific input types, provide documentation to a user, and much more. This module is Part 1 of a multi-part series on using `argparse`. In Part 2 we will introduce additional functionality, such as nested or mutually exclusive arguments, improved naming organization, and more.\n",
        "\n",
        "---\n",
        "\n",
        "## Release Notes\n",
        "\n",
        "- **2021-05-03**\n",
        "    - Initial posting\n",
        "    \n",
        "---\n",
        "\n",
        "**[Return to the Introduction to Python Homepage](https://walkintheforest.com/Content/Introduction+to+Python/%F0%9F%90%8D+Introduction+to+Python)**\n",
        "\n"
      ]
    }
  ],
  "metadata": {
    "kernelspec": {
      "display_name": "Python 3",
      "language": "python",
      "name": "python3"
    },
    "language_info": {
      "codemirror_mode": {
        "name": "ipython",
        "version": 3
      },
      "file_extension": ".py",
      "mimetype": "text/x-python",
      "name": "python",
      "nbconvert_exporter": "python",
      "pygments_lexer": "ipython3",
      "version": "3.8.5"
    },
    "colab": {
      "provenance": [],
      "include_colab_link": true
    }
  },
  "nbformat": 4,
  "nbformat_minor": 0
}