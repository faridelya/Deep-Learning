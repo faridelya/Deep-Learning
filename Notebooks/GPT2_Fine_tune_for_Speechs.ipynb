{
  "nbformat": 4,
  "nbformat_minor": 0,
  "metadata": {
    "colab": {
      "provenance": [],
      "toc_visible": true,
      "mount_file_id": "1tJX5zEigPqyn19tOqdXteRY9ox7PEciR",
      "authorship_tag": "ABX9TyNs6pHfMq5qqwX8RxerDJBi",
      "include_colab_link": true
    },
    "kernelspec": {
      "name": "python3",
      "display_name": "Python 3"
    },
    "accelerator": "GPU"
  },
  "cells": [
    {
      "cell_type": "markdown",
      "metadata": {
        "id": "view-in-github",
        "colab_type": "text"
      },
      "source": [
        "<a href=\"https://colab.research.google.com/github/faridelya/Deep-Learning/blob/main/Notebooks/GPT2_Fine_tune_for_Speechs.ipynb\" target=\"_parent\"><img src=\"https://colab.research.google.com/assets/colab-badge.svg\" alt=\"Open In Colab\"/></a>"
      ]
    },
    {
      "cell_type": "markdown",
      "metadata": {
        "id": "OufutByqJIwC"
      },
      "source": [
        "## GPT2 Fine Tuning over Abraham Lincoln (Speechs 1861-65)\n",
        "16th U.S. President"
      ]
    },
    {
      "cell_type": "markdown",
      "metadata": {
        "id": "EuFveAVT9GVa"
      },
      "source": [
        "## Dependences\n",
        "\n",
        "---\n",
        "A simple Python package that wraps existing model fine-tuning and generation scripts for OpenAI GPT-2 text generation model(specifically the \"small\", 124M hyperparameter version). Additionally, this package allows easier generation of text, generating to a file for easy curation,allowing for prefixes to force the text to start with a given phrase.\n",
        "\n"
      ]
    },
    {
      "cell_type": "code",
      "metadata": {
        "colab": {
          "base_uri": "https://localhost:8080/"
        },
        "id": "vEsgO46HAKMe",
        "outputId": "2213418f-a51c-472c-9753-42c46c8e65b9"
      },
      "source": [
        "% tensorflow_version 1.x\n",
        "!pip install gpt-2-simple  # installing model\n",
        "import gpt_2_simple as gpt2      # package of gpt2 simple"
      ],
      "execution_count": null,
      "outputs": [
        {
          "output_type": "stream",
          "text": [
            "Requirement already satisfied: gpt-2-simple in /usr/local/lib/python3.6/dist-packages (0.7.1)\n",
            "Requirement already satisfied: numpy in /usr/local/lib/python3.6/dist-packages (from gpt-2-simple) (1.19.5)\n",
            "Requirement already satisfied: tqdm in /usr/local/lib/python3.6/dist-packages (from gpt-2-simple) (4.41.1)\n",
            "Requirement already satisfied: requests in /usr/local/lib/python3.6/dist-packages (from gpt-2-simple) (2.23.0)\n",
            "Requirement already satisfied: toposort in /usr/local/lib/python3.6/dist-packages (from gpt-2-simple) (1.6)\n",
            "Requirement already satisfied: regex in /usr/local/lib/python3.6/dist-packages (from gpt-2-simple) (2019.12.20)\n",
            "Requirement already satisfied: certifi>=2017.4.17 in /usr/local/lib/python3.6/dist-packages (from requests->gpt-2-simple) (2020.12.5)\n",
            "Requirement already satisfied: chardet<4,>=3.0.2 in /usr/local/lib/python3.6/dist-packages (from requests->gpt-2-simple) (3.0.4)\n",
            "Requirement already satisfied: idna<3,>=2.5 in /usr/local/lib/python3.6/dist-packages (from requests->gpt-2-simple) (2.10)\n",
            "Requirement already satisfied: urllib3!=1.25.0,!=1.25.1,<1.26,>=1.21.1 in /usr/local/lib/python3.6/dist-packages (from requests->gpt-2-simple) (1.24.3)\n"
          ],
          "name": "stdout"
        }
      ]
    },
    {
      "cell_type": "code",
      "metadata": {
        "id": "z-czDlw3GIc_"
      },
      "source": [
        "from datetime import datetime\n",
        "from google.colab import files"
      ],
      "execution_count": null,
      "outputs": []
    },
    {
      "cell_type": "markdown",
      "metadata": {
        "id": "0wXB05bPDYxS"
      },
      "source": [
        "## Downloading GPT-2\n",
        "\n",
        "If you're retraining a model on new text, you need to download the GPT-2 model first. \n",
        "\n",
        "There are three released sizes of GPT-2:\n",
        "\n",
        "* `124M` (default): the \"small\" model, 500MB on disk.\n",
        "* `355M`: the \"medium\" model, 1.5GB on disk.\n",
        "* `774M`: the \"large\" model, cannot currently be finetuned with Colaboratory but can be used to generate text from the pretrained model \n",
        "* `1558M`: the \"extra large\", true model. Will not work if a K80 GPU is attached to the notebook. (like `774M`, it cannot be finetuned).\n",
        "\n",
        "Larger models have more knowledge, but take longer to finetune and longer to generate text. You can specify which base model to use by changing `model_name` in the cells below.\n",
        "\n",
        "The next cell downloads it from Google Cloud Storage and saves it in the Colaboratory VM at `/models/<model_name>`.\n",
        "\n",
        "This model isn't permanently saved in the Colaboratory VM; you'll have to redownload it if you want to retrain it at a later time."
      ]
    },
    {
      "cell_type": "code",
      "metadata": {
        "colab": {
          "base_uri": "https://localhost:8080/"
        },
        "id": "AHd6yRLxCZ2p",
        "outputId": "b1403447-d36b-454f-b6af-f025c0ff1c12"
      },
      "source": [
        "gpt2.download_gpt2(model_name=\"124M\")   # model is saved into current directory under /models/124M/"
      ],
      "execution_count": null,
      "outputs": [
        {
          "output_type": "stream",
          "text": [
            "Fetching checkpoint: 1.05Mit [00:00, 463Mit/s]                                                      \n",
            "Fetching encoder.json: 1.05Mit [00:00, 133Mit/s]                                                    \n",
            "Fetching hparams.json: 1.05Mit [00:00, 635Mit/s]                                                    \n",
            "Fetching model.ckpt.data-00000-of-00001: 498Mit [00:03, 125Mit/s]                                   \n",
            "Fetching model.ckpt.index: 1.05Mit [00:00, 303Mit/s]                                                \n",
            "Fetching model.ckpt.meta: 1.05Mit [00:00, 125Mit/s]                                                 \n",
            "Fetching vocab.bpe: 1.05Mit [00:00, 210Mit/s]                                                       \n"
          ],
          "name": "stderr"
        }
      ]
    },
    {
      "cell_type": "markdown",
      "metadata": {
        "id": "PRxIrinOZbP_"
      },
      "source": [
        "## Ulpoad Data\n",
        "\n",
        "![image.png](data:image/png;base64,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)"
      ]
    },
    {
      "cell_type": "code",
      "metadata": {
        "id": "H7Tzp85vJ50c"
      },
      "source": [
        "Speechs = \"Abraham Lincoin Speechs1861-65.txt\""
      ],
      "execution_count": null,
      "outputs": []
    },
    {
      "cell_type": "markdown",
      "metadata": {
        "id": "LdpZQXknFNY3"
      },
      "source": [
        "## Finetune GPT-2\n",
        "\n",
        "The next cell will start the actual finetuning of GPT-2. It creates a persistent TensorFlow session which stores the training config, then runs the training for the specified number of `steps`. (to have the finetuning run indefinitely, set `steps = -1`)\n",
        "\n",
        "The model checkpoints will be saved in `/checkpoint/run1` by default. The checkpoints are saved every 500 steps (can be changed) and when the cell is stopped.\n",
        "\n",
        "The training might time out after 4ish hours; make sure you end training and save the results so you don't lose them!\n",
        "\n",
        "**IMPORTANT NOTE:** If you want to rerun this cell, **restart the VM first** (Runtime -> Restart Runtime). You will need to rerun imports but not recopy files.\n",
        "\n",
        "Other optional-but-helpful parameters for `gpt2.finetune`:\n",
        "\n",
        "\n",
        "*  **`restore_from`**: Set to `fresh` to start training from the base GPT-2, or set to `latest` to restart training from an existing checkpoint.\n",
        "* **`sample_every`**: Number of steps to print example output\n",
        "* **`print_every`**: Number of steps to print training progress.\n",
        "* **`learning_rate`**:  Learning rate for the training. (default `1e-4`, can lower to `1e-5` if you have <1MB input data)\n",
        "*  **`run_name`**: subfolder within `checkpoint` to save the model. This is useful if you want to work with multiple models (will also need to specify  `run_name` when loading the model)\n",
        "* **`overwrite`**: Set to `True` if you want to continue finetuning an existing model (w/ `restore_from='latest'`) without creating duplicate copies. "
      ]
    },
    {
      "cell_type": "markdown",
      "metadata": {
        "id": "YPNTnvyAWPju"
      },
      "source": [
        "## Output Explanination\n",
        "\n",
        "\n",
        "---\n",
        "The absolute value of the loss is not important (the output text quality is subjective.but if the average loss stops decreasing, that’s a sign the model has converged and additional training may not help improve the model.\n",
        "\n",
        "\n",
        "\n",
        "\n",
        "\n"
      ]
    },
    {
      "cell_type": "code",
      "metadata": {
        "colab": {
          "base_uri": "https://localhost:8080/"
        },
        "id": "oGcXvggkCshI",
        "outputId": "56c25139-338f-49c8-ca34-5dad822e36f8"
      },
      "source": [
        "import tensorflow as tf\n",
        "\n",
        "tf.reset_default_graph()\n",
        "\n",
        "sess = gpt2.start_tf_sess()\n",
        "gpt2.finetune(sess,\n",
        "              dataset = Speechs,\n",
        "              model_name = \"124M\",\n",
        "              steps =300,\n",
        "              restore_from = \"fresh\",\n",
        "              run_name= \"run1\",\n",
        "              print_every=10,\n",
        "              sample_every= 20,\n",
        "              save_every=20\n",
        "              )"
      ],
      "execution_count": null,
      "outputs": [
        {
          "output_type": "stream",
          "text": [
            "Loading checkpoint models/124M/model.ckpt\n",
            "INFO:tensorflow:Restoring parameters from models/124M/model.ckpt\n"
          ],
          "name": "stdout"
        },
        {
          "output_type": "stream",
          "text": [
            "\r  0%|          | 0/1 [00:00<?, ?it/s]"
          ],
          "name": "stderr"
        },
        {
          "output_type": "stream",
          "text": [
            "Loading dataset...\n"
          ],
          "name": "stdout"
        },
        {
          "output_type": "stream",
          "text": [
            "100%|██████████| 1/1 [00:00<00:00,  1.08it/s]\n"
          ],
          "name": "stderr"
        },
        {
          "output_type": "stream",
          "text": [
            "dataset has 207804 tokens\n",
            "Training...\n",
            "[10 | 29.95] loss=3.60 avg=3.60\n",
            "[20 | 52.96] loss=3.17 avg=3.38\n",
            "Saving checkpoint/run1/model-20\n",
            "======== SAMPLE 1 ========\n",
            "\t the user if they can not see me. And if they do see me, they may be able to see the person. No matter how close they are, I can't tell whom to look for, so let me know who I can ask. If they just go through a lot of information and there is no real information they can give them, they can just assume that I am there by themselves. I can then see who they can ask for. If they can't think of a way to get back to my lab, they can just assume that they can reach me at the lab. When I do come across him, I can assume that he has come from another world. If he isn't there, I can assume he is already there. I can just assume he is just one part of the whole human puzzle. And what I ask him is, did it not occur to you that you should ask me about him? And how I will respond to that question, because that is so essential if I don't understand it. So you can see that I understand that question, while I can't hear you say anything else. So if I can't understand that question, then I can just assume I can see you, and that you could use all the information I have about me. I can see you can just ask for a copy of the book that you are considering acquiring. And why, you might ask for it. The reason people can still ask for books that are not already in the mail, is because they do not know where I can get them. And so, I can just ask to see where I can get books that are not already in the mail. But if I see that box, or whatever else I see, I can think that I have got your book at the very end of it. They can see that I am actually a man who has never had a girlfriend. So, you can see that I can ask to be in the same room as him and then he can use the same information to find me. The more I see and the more I see that information, the more I can understand, and I don't know how I can get something if I don't know where or where I can get the book that I just mentioned that I need. And so as I see that information, I can make a conscious effort to get it here within two months. This will be so much easier if I have already seen it, rather than so much quicker. I can read everything about it from an old book. I can then see all you've got, and so as I get close to the end of the book, I can actually read the entire thing that I'm about to go to the laboratory and look up in the mirror to see if you can tell me what it is that I think I can be doing. This will give me a better idea of their ability to get to me at the end of the book and that's pretty much all I can do to get the books that I'm about to go to the lab. It is thus one of the very little things that make you realize how much easier it is to see a book when it comes to obtaining it after you have just read it. The information you have about me as a book can be used to help you get it. And one of the many reasons people are so enthusiastic about such an aspect of their lives and thus willing to go for it can be understood, as you will see, by the fact that if you go to a lab where they have some information about me, there will be a fair amount of information about you. And so there will be no reason to take chances with it at the end of the book. But if I think that such things ought to be the case, my good friend, you can probably make a conscious effort to get them. It is this one of the very few things that make you realize how much easier it is to see the book when you go into a lab when it comes to getting it. It is easy to understand that this very thing is one of the very few things a reader can think of which will result in him receiving the book or having it. When I go into a lab, the only thing I have to do is get my book right away from me. If one has been through with what they need, and is now doing, it is easy enough for me to take a great effort to get the book just right. I never thought of anything at all that needed getting it for me. Now I do wonder whether you or anyone in the lab is aware there is a way to get the books before they are opened. But this would not be at all uncommon. Some of the little things that you have about you can then be used to get other things by taking the books and doing one thing. One of the things you will always be asked about is the lack of some information about your parents that you will never have to learn. It is important to you to know exactly what the parents say to you about the\n",
            "\n",
            "[30 | 90.98] loss=2.71 avg=3.16\n",
            "[40 | 113.90] loss=2.48 avg=2.98\n",
            "Saving checkpoint/run1/model-40\n",
            "======== SAMPLE 1 ========\n",
            "\t for this purpose, and thus the most important and perfect combination of the two, as far as can be established. But the great evil of this, is, that it is not possible for any one to control all, or keep them in a great or good condition from having all their benefits. The only remedy for this condition being that of a voluntary prohibition of slavery, the most desirable of which is a gradual restriction of the rights of the individual, which is effected at the hands of the slave. This prohibition, the act of Congress, shall apply with all care, to the emancipation of the people of this continent; and of that part of the world which has ceased to be the slave. The purpose of this act is not only to control the property of the owners of the people who are the property of the slaves; but also to establish, by the proper laws, a legal principle in favor of maintaining the property of the owners of the people, in violation of their will; to regulate the slave, and to prevent him from getting the property from any of them by such means as he may derive; by the force, and in the most efficient manner, of a voluntary prohibition of slavery, which is intended to increase the rights of the slave to the greatest extent possible.\n",
            "\n",
            "6. This principle, of which the laws of the United States are the subject, has an end to its operation. This end is, in the following measures, by a convention of men, as may reasonably be expected in the beginning of that great war, that this principle should be exercised, not only for a general defense of the freedom of the people, but also for purposes whatever and as to the interests of Congress.\n",
            "\n",
            "The people of the United States, under the Government of Lincoln, in their rebellion against slavery, having formed a convention, have nominated a Secretary, by the ballot put before them, who shall make the necessary acts to prevent all slavery there; and, by the ballot, they have submitted, to the convention of the people, the provision for a voluntary emancipation of the slave. There is in the Convention, no treaty, but no law or regulation pertaining to slavery in the United States so far as the people of Congress, or of the people of this country, have any right to control it, or to save it; and, therefore, as a constitutional act, Congress shall not provide any such act to protect the rights of that people. Under all the difficulties and disturbances of the present war, this principle of a voluntary emancipation of the slave, has been effected, and the people of this country, and the people of some other part thereof, have been happy to have this principle under them, and to enjoy it freely and justly. It is to be hoped, therefore, that this principle should not be so violated; that the people of the United States, and the people of this country, should all benefit equally from it, and the laws which apply to each in this manner do not affect the rights of the people to interfere in the affairs of others, as to those, in general, which are at the disposal of themselves, without their consent, with regard to slavery. If such a convention, in such a case of necessity, is not agreed at the last session of Congress, Congress should, upon the advice of the people, recommend it as an amendment. If so such a convention should be carried, the people of the United States, and the people of this country, shall both benefit alike from this act and from it. If a convention be not agreed at the last session of Congress, Congress shall, on the recommendation of the people of the United States, recommend a law to protect the rights of the slave and for his proper use by his owners. If there should be such legislation in the first session of Congress, in the present session of Congress it shall be in the same section of the new section, as a section of the old section, and as a section of the old section as a section of the new section. If the people of Florida have voted for such a law or for the proposed amendments, and have never, in their lives or in circumstances, been defeated in a contest of that kind, as I have recommended for that purpose, the convention of Florida should recommend the adoption of such act.\n",
            "\n",
            "CHAPTER VIII.— THE DUNASTER REPORTS AND TESTIMONY OF THE LADY.\n",
            "\n",
            "7. At the close of the day, I met Sir John A. to the best of my recollection, at London, where I was to meet my friend and predecessor, Sir Henry, who is to be called as his successor. This occasion pleased me very greatly, because I would not to say anything against him, but to acknowledge his very good-nature and to wish to be called to such important and important work. A letter was sent to me on the 23rd of the second year of the insurrection by the British officers, and to Colonel Tamburio, Secretary of State, and Senator Conaway, of Connecticut\n",
            "\n",
            "[50 | 150.44] loss=1.27 avg=2.63\n",
            "[60 | 173.60] loss=1.99 avg=2.52\n",
            "Saving checkpoint/run1/model-60\n",
            "======== SAMPLE 1 ========\n",
            " persons for such information and for such purpose, may be brought in the District. The provisions of this section shall be deemed to be complied with and may be enforced upon their terms, and the provisions of the present act shall be deemed to be complied with. Notwithstanding any other provision of law, any person acting to enforce these provisions shall be deemed to have satisfied the terms of a judicial power for the jurisdiction of him or her. No such action shall be instituted except against persons acting within that District, having a power not delegated by this section, including the execution of judicial proceedings in that District, and not being the subject of any such action or proceeding. No civil action shall be instituted at the time such civil proceedings are instituted nor against persons who have been lawfully appointed to that District or any other situated within the District, nor against any person or persons who have died, or who shall hereafter become, alive, or died, or for which the execution of any such action or proceeding shall be prohibited or suspended. All proceedings in any civil action that shall come before that Court shall by law be commenced, unless and until the proceeding is instituted. Any proceeding in such proceeding shall be deemed closed by and adjudicated by the competent judge for the District of Columbia. Any proceeding in such proceeding shall be deemed instituted and closed by and adjudicated under the same rules and regulations as are adopted under the present act, except the commencement of such proceeding to be deemed open by, upon, or before the expiration of the seven remaining months. Notwithstanding any other provision of law, no one who shall at any time be under probation from any State, State, or Government of the United States, shall, without the consent of the Congress, be tried, nor shall a person of the United States appear before any Federal judge, or any magistrate judge, for the same purpose. No Federal judge shall under any law be able or proper to hold any or any of such persons held in proper custody by the United States, nor at any time be able or proper to interfere with the rights of any such person; nor should any such person suffer any injury or wrong be made, or any justice appointed on account of any mismanagement, in violation of this present act. The judgment of a Federal judge shall not be affected, under any of the articles of this convention, or in any other statute, upon any plea at any time, or, under any other treaty, proceeding, unless such plea be presented to the court of the United States for review before the United States by the same judge. The prohibition herein provided for in any act for the suppression of aliens for offenses against the United States who have been admitted to the United States shall not but be construed to prohibit the admission as a violation of this act or of any provision thereof. Nothing in any provision of this act which shall be construed to give effect to this act shall be construed to prohibit any act which shall, if such act were carried into execution upon such terms, be void, without the consent of the Congress, and shall be voiding even against the United States the prohibition contained therein; nor such provision shall affect provisions of any law for enforcing laws passed or may be made, which would, though not otherwise affected, by any provision of the act except as herein provided. Any law for the suppression of aliens for offenses against the United States who have been admitted to the United States shall remain in force till such time as such prohibition may be passed or may apply, and for the time being to the prohibition therein contained, and shall not, except in the case where such prohibition be provided for in this act, be enforced. Nothing in any provision of this act shall be construed to affect the prohibition contained herein. Any law to prevent the United States from providing for its military establishment in another State shall not be construed to affect the prohibition herein provided. Nothing in this act shall be construed to affect the prohibition contained herein. No provision of this act shall be construed to prevent the Senate from assembling for the purpose of taking up and passing the bill of attainder. No provision of this act shall be construed to prevent the Government of the United States from providing for consular service abroad. No provision of this act shall by implication effect a repeal of any law against a foreign State or organization which is not, or may not possibly be, violated during the continuance of this act. Nothing in these enactments or in any provision of any law shall be construed to prohibit the Government of the United States from providing for an act prohibiting slavery. These enactments shall by themselves, and unless they extend into another Territory, or cause injury or interfere with the provisions herein stated, be deemed to be in force and proper for the protection of that Territory within which slave markets are found. Nothing in these enactments shall be construed to authorize the United States to confiscate the property in the public domain of any State or territory of the United States. These enactments shall be deemed to be repealed by enactment of the Constitution of the United States, and such repeal and repeal or repeal upon the question of slavery by a majority vote of\n",
            "\n",
            "[70 | 209.85] loss=2.24 avg=2.48\n",
            "[80 | 233.10] loss=2.21 avg=2.45\n",
            "Saving checkpoint/run1/model-80\n",
            "======== SAMPLE 1 ========\n",
            " the the first thing he did is take a man who was in Egypt and he was a slave and he was taken captive and he died and was buried the second of the moon days, this was the year after the commencement of the Gospel. And while he was in Egypt, a man came into his house and he told him, you know, to come into my house, and one of the friends of Jesus, a very young man named John, came to him and he said to him, go and take me, I come, you go, I go, you go, I go and go you go, I come, you go, and I came, the little one with the white, and he said to him, come take me, I come, I come, I come, I come, and I came, the little one with the black, and he said to him, go and take me, let me go, let me go and I came, and I go, he came, I went, there was a little little man with some black and a white servant- servant came to him and he came, and he saw little black and a white servant stood with the little black and said to him, let me go out of your house and I will come, but I go, I go out of your house, there is a little black man with some white servant coming with him and he looked like he was about to be taken off his feet, and he saw, and saw little black and white servant, and they both looked like they were very thin, and little black servant and he saw little black servant and said, let me go out of your house in my place but there it is, there is white servant, little black servant was about to be taken off his feet and he saw little black servant and said, let me go out and in them I saw little black servant and said to look down, I saw little black servant, and he had a long white robe, and he looked like he was about to be taken off his feet, and he saw little black servant who had a long white robe, and he saw little black servant, he saw little black servant, he saw little black servant, he saw little black servant, he saw little black servant, he saw little black servant, he saw a little black servant with a white servant and he saw little black servant standing with a slave, and he saw little black servant, and they both looked like they were about to be taken off their feet by the great white God and these little black servants looked like little black servant sat upon the ground, he saw little black servant and they both looked like like little black servant, and there they were and he saw little black servant, he saw little black servant, and he saw little black servant, he saw little black servant, and he saw little black servant and he saw little black servant, and he saw little black servant and he saw little black servant, he saw little black servant, and then he saw little black servant and he saw little black servant, and he saw little black servant, he saw little black servant and he saw little black servant, but all those little black servants looked like they were taken away by the great white God and they all looked like little black servant, and all these little black servants looked like little black servant, and all those little black servants looked like little black servant, they looked like little black servant, and when they saw little black servant, their faces were like this, they looked like this, and they looked like this, they looked like this, and there they were, there was a little black servant, he stood with a white servant, and a little black servant sat on the ground and his hands looked like in his hands he said, and the black servants looked like little black servant was about to be taken off his feet and he looked down, and saw little black servant, and there he saw little black servant, he saw little white servant, and all these little black servants looked like little black servant sat upon his ground and his hands looked like these, little black servant looked down and looked down and looked down and looked down and looked down and saw little black servant sat on his ground and his hands looked like these, little black servant looked down and looked down and saw little black servant sat on his ground in some place and saw little black servant, he saw little black servant, and sat upon his ground again and saw little black servant, but little black servant sat still and said to them, I go out and take you, come get me, to the little one, and he sat down on the ground he looked down and saw little black servant, the little one looked down, saw little black servant, he looked down and saw little black servant and he saw little black servant and looked down and saw little black servant, there came a little young man who was in Egypt and he saw a man dressed like a white slave sat in a house and he took him up and he took him back out of Egypt and he went and\n",
            "\n",
            "[90 | 269.06] loss=2.31 avg=2.43\n",
            "[100 | 292.29] loss=2.73 avg=2.46\n",
            "Saving checkpoint/run1/model-100\n",
            "======== SAMPLE 1 ========\n",
            " respectively, with the exception that there are no declarations in its language. It also is a treaty in which all sections of the constitution are expressly declared to be valid. The treaty also forbids the use of land in violation of a charter of the United States, which is now pending in Congress. The Constitution itself, in its text, declares that the President, in his discretion, may enter this country with his own force, and may not permit it to become a slave country without first submitting its consent to the authority of the United States. This is an affirmation of that opinion. The act of the last session, which gave the whole of the Senate the power to make laws upon the subject of slavery, contained no provision for its repeal. The laws were adopted by the majority in the House. This act was amended at the last session and still is in its earliest stages. This clause is an illustration of the powers of the people to pass legislation in conformity with law. The act of Congress in which this act is in full force and effect has an indefinite continuance, and we may not be so proud as to think it was in any wise intended to perpetuate slavery and prohibit any government which, in no wise resembling this treaty, shall thereby have attained that end. The act has an ending and an ending in itself, and a clause of that ending is in our act. It is, however, not the law of the land, and there is no law in any provision thereunder, which will extinguish the freedom of speech, or free association, or the right of the people to associate in any manner with any particular race or persons. It is contended that it leaves the slaves in it in the condition of the United States; that, as the act stipulates, the act of Congress in that case will not take the measures of that judgment which it has stipulated will be not in itself an act, but a contract, made by the act, of giving Congress, by a power conferred upon them in that act, the power to make treaties, and that a power to enforce such treaties shall be conferred on Congress. It has been held, that the Constitution does not contain a provision for the repeal of the Constitution, unless it should cease to be a provision, as I have submitted, of that part of the act, and there is no occasion for asking whether this was the same provision. It is said, however, that the Constitution was framed with an interest to Congress; that, as a whole, its provisions are, as to Congress, consistent with their views. But if the framers of the Constitution intended that the provision should cease to be a provision within them, perhaps that is not consistent with the principles the law of the land requires of a man not under the condition of slavery, not to be subject or subject to taxes in any way, but to be free and free from all the restrictions of society. In its final form, the Constitution expressly stipulates, and declares, that Congress shall never cease to be a slave. Under the terms of the act, this is the law. The Constitution also declares, that the Congress, in adopting the act, is not to cease to be a slave under any act whatever, and the condition of the United States therein will never cease to be the same as before that act. This is the legal condition and the act. There is no law in Congress or in any provision thereof, nor does any particular provision for it, save at the point of the amendment to this section. I venture to infer by your reference that you are not so aware of the fact as to doubt the authority of Congress with much weight as to this act. You seem to be interested in the question whether you may not make an express provision for repeal of any part of it in the act of Congress. It seems, if so, that you can make an express provision, if you wish to repeal it. But this might be difficult and difficult to do, unless you can ascertain which of the parts you are in the case. In the case of the repeal clause, Congress, in its text, declares the section of the act prohibiting slavery and section against it expressly stated in the act at the end of clause 5, and thus expressly stated in the act as a prohibition against the violation of the constitution. This is a new section; and you seem to believe it to have come from the law. If so, you will have no occasion to contend that the law was made expressly for the purpose of repealing the section. But if that was not the case, it would scarcely be a prohibition at all. No law, even a new section, could be made for a repeal of one section; which, you believe, has become the condition and the end of the act. It is true that the law is inconsistent with the principle of the Constitution so that slavery can never be repealed as a fundamental, indispensable law. If it is, that is, if it is true that a section, which was a condition, could never, and will not, be repealed. Why, then\n",
            "\n",
            "[110 | 328.21] loss=0.69 avg=2.29\n",
            "[120 | 351.46] loss=0.92 avg=2.17\n",
            "Saving checkpoint/run1/model-120\n",
            "======== SAMPLE 1 ========\n",
            "\t\b\t\t\t\t\t\t\t\t\t\t\t\t\t\t\t\t\t\t\t\t\t\t\t\t\t\t\t\t\t\t\t\t\t\t\t\t\t\t\t\t\t\t\t\t\t\t\t\t\t\t\t\t\t\t\t\t\t\t\t\t\t\t\t\t\t\t\t\t\t\t\t\t\t\t\t\t\t\t\t\t\t\t\t\t\u0012\t\t\t\t\t\t\t\t\t\t\t\t\t\t\t\t\t\t\t\t\t\t\t\t\t\t\t\t\t\t\t\t\t\t\t\t\t\t\t\t\t\t\t\t\t\t\t\t\t\t\t\t\t\t\t\t\t\t\t\t\t\t\t\t\t\t\t\t\t\t\t\t\t\t\t\t\t\t\t\t\t\t\t\t\t\t\t\t\t\t\t\t\t\t\t\t\t\t\t\t\t\t\t\t\t\t\t\t\t\t\t\t\t\t\t\t\t\t\t\t\t\t\t\t\t\t\t\t\t\t\t\t\t\t\t\t\t\t\t\t\t\t\t\t\t\t\t\t\t\t\t\t\t\t\t\t\t\t\t\t\t\t\t\t\t\t\t\t\t\t\t\t\t\t\t\t\t\t\t\t\t\t\t\t\t\t\t\t\t\t\t\t\t\t\t\t\t\t\t\t\t\t\t\t\t\t\t\t\t\t\t\t\t\t\t\t\t\t\t\t\t\t\t\t\t\t\t\t\t\t\t\t\t\t\t\t\t\t\t\t\t\t\t\t\t\t\t\t\t\t\t\t\t\t\t\t\t\t\t\t\t\t\t\t\t\t\t\t\t\t\t\t\t\t\t\t\t\t\t\t\t\t\t\t\t\t\t\t\t\t\t\t\t\t\t\t\t\t\t\t\t\t\t\t\t\t\t\t\t\t\t\t\t\t\t\t\t\t\t\t\t\t\t\t\t\t\t\t\t\t\t\t\t\t\t\t\t\t\t\t\t\t\t\t\t\t\t\t\t\t\t\t\t\t\t\t\t\t\t\t\t\t\t\t\t\t\t\t\t\t\t\t\t\t\t\t\t\t\t\t\t\t\t\t\t\t\t\t\t\t\t\t\t\t\t\t\t\t\t\t\t\t\t\t\t\t\t\t\t\t\t\t\t\t\t\t\t\t\t\t\t\t\t\t\t\t\t\t\t\t\t\t\t\t\t\t\t\t\t\t\t\t\t\t\t\t\t\t\t\t\t\t\t\t\u001a\t\t\t\t\t\t\t\t\t\t\t\t\t\t\t\t\t\t\t\t\t\t\t\t\t\t\t\t\t\t\t\t\t\t\t\t\t\t\t\t\t\t\t\t\t\t\t\t\t\t\t\t\t\t\t\t\t\t\t\t\t\t\t\t\t\t\t\t\t\t\t\t\t\t\t\t\t\t\t\t\t\t\t\t\t\t\t\t\t\t\t\t\t\t\t\t\t\t\t\t\t\t\t\t\t\t\t\t\t\t\t\t\t\t\t\t\t\t\t\t\t\t\t\t\t\t\t\t\t\t\t\t\t\t\t\t\t\t\t\t\t\t\t\t\t\t\t\t\t\t\t\t\t\t\t\t\t\t\t\t\t\t\t\t\t\t\t\t\t\t\t\t\t\t\t\t\t\t\t\t\t\t\t\t\t\t\t\t\t\t\t\t\t\t\t\t\t\t\t\t\t\t\t\t\t\t\t\t\t\t\t\t\t\t\t\t\t\t\t\t\t\t\t\t\t\t\t\t\t\t\t\t\t\t\t\t\t\t\t\t\t\t\t\t\t\t\t\t\t\t\t\t\t\t\t\t\t\t\t�\t\t\t\t\t\t\t\t\t\t\t\t\t\t\t\t\t\t\t\t\t\t\t\t\t\t\t\t\t\t\t\t\t\t\t\t\t\t\t\t\t\t\t\t\t\t\t\t\t\t\t\t\t\t\t\t\t\t\t\t\t\t\t\t\t\t\t\t\t\t\t\t\t\t\t\t\t\t\t\t\t\t\t\t\t\t\t\t\t\t\t\t\t\t\t\t\t\t\t\t\t\t\t\t\t\t\t\t\t\t\t\t\t\t\t\t\t\t\t\t\t\t\t\t\t\t\t\t\t\t\t\t\t\t\t\t\t\t\t\t\t\t\t\t\t\t\t\t\t\t\t\t\t\t\t\t\t\t\t\t\t\t\t\t\t\t\t\t\t\t\t\t\t\t\t\t\t\t\t\t\t\t\t\t\t\t\t\t\t\t\t\t\t\t\t\t\t\t\t\t\t\t\t\t\t\t\t\t\t\t\t\t\t\t\t\t\t\t\t\t\t\t\n",
            "\n",
            "[130 | 387.39] loss=1.97 avg=2.16\n",
            "[140 | 410.63] loss=2.52 avg=2.18\n",
            "Saving checkpoint/run1/model-140\n",
            "======== SAMPLE 1 ========\n",
            "\t externalTo\t\t\t\t\t\t\t\t\t\t\t\t\t\t\t\t\t\t\t\t\t\t\t\t\t\t\t\t\t\t\t\t\t\t\t\t\t\t\t\t\t\t\t\t\t\t\t\t\t\t\t\t\t\t\t\t\t\t\t\t\t\t\t\t\t\t\t\t\t\t\t\t\t\t\t\t\t\t\t\t\t\t\t\t\t\t\t\t\t\t\t\t\t\t\t\t\t\t\t\t\t\t\t\t\t\t\t\t\t\t\t\t\t\t\t\t\t\t\t\t\t\t\t\t\t\t\t\t\t\t\t\t\t\t\t\t\t\t\t\t\t\t\t\t\t\t\t\t\t\t\t\t\u001a\t\t\t\t\t\t\t\t\t\t\t\t\t\t\t\t\t\t\t\t\t\t\t\t\t\t\t\t\t\t\t\t\t\t\t\t\t\t\t\t\t\t\t\t\t\t\t\t\t\t\t\t\t\t\t\t\t\t\t\t\t\t\t\t\t\t\t\t\t\t\t\t\t\t\t\t\t\t\t\t\t\t\t\t\t\t\t\t\t\t\t\t\t\t\t\t\t\t\t\t\t\t\t\t\t\t\t\t\t\t\t\t\t\t\t\t\t\t\t\t\t\t\t\t\t\trawdownload\t\t\t\t\t\t\t\t\t\t\t\t\t\t\t\t\t\t\t\t\t\t\t\t\t\t\t\t\t\t\t\t�\t\t\t\t\t\t\t\t\t\t\t\t\t\t\t\t\t\t\t\t\t\t\t\t\t\t\t\t\t\t\t\t\t\t\t\t\t\t\t\t\t\t\t\t\t\t\t\t\t\t\t\t\t\t\t\t\t\t\t\t\t\t\t\t\t\t\t\t\t\t\t\t\t\t\t\t\t\t\t\t\t\t\t\t\t\f\t\t\t\t\t\t\t\t\t\t\t\t\t\t\t\t\t\t\t\t\t\t\t\t\t\t\t\t\t\t\t\t\t\t\t\t\t\t\t\t\t\t\t\t\t\t\t\t\t\t\t\t\t\t\t\t\t\t\t\t\t\t\t\t\t\t\t\t\t\t\t\t\t\t\t\t\t\t\t\t\t\t\t\t\t\t\t\t\t\t\t\t\t\t\t\t\t\t\t\t\t\t\t\t\t\t\t\t\t\t\t\t\t\t\t\t\t\t\t\t\t\t\t\t\t\t\t\t\t\t\t\t\t\t\t\t\t\t\t\t\t\t\t\t\t\t\t\t\t\t\t\t\t\t\t\t\t\t\t\t\t\t\t\t\t\t\t\t\t\t\t\t\t\t\t\t\t\t\t\t\t\t\t\t\t\t\t\t\t\t\t\t\t\t\t\t\t\t\t\t\t\t\t\t\t\t\t\t\t\t\t\t\t\t\t\t\t\t\t\t\t\t\t\t\t\t\t\t\t\t\t\t\t\t\t\t\t\t\t\t\t\t\t\t\t\t\t\t\t\t\t\t\t\t\t\t\t\t\t\t\t\t\t\t\t\t\t\t\t\t\t\t\t\t\t\t\t\t\t\t\t\t\t\t\t\t\t\t\t\t\t\t\t\t\t\t\t\t\t\t\t\t\t\t\t\t\t\t\t\t\t\t\t\t\u0013\t\t\t\t\t\t\t\t\t\t\t\t\t\t\t\t\t\t\t\t\t\t\t\t\u0000\t\t\t\t\t\t\t\t\t\t\t\t\t\t\t\t\t\t\t\t\t\t\t\t\t\t\t\t\t\t\t\t\t\t\t\t\t\t\t\t\t\t\t\t\t\t\t\t\t\t\t\t\t\t\t\t\t\t\t\t\t\t\t\t\t\t\t\t\t\t\t\t\u0004\t\t\t\t\t\t\t\t\t\t\t\t\t\t\t\t\t\t\t\t\t\t\t\t\t\t\t\t\t\t\t\t\t\t\t\t\t\t\t\t\t\t\t\t\t\t\t\t\t\t\t\t\t\t\t\t\t\t\t\t\t\t\t\t\t\t\t\t\t\t\t\t\t\t\t\t\t\t\t\t\t\t\t\t\t\t\t\t\t\t\t\t\t\t\t\t\t\t\t\t\t\t\t\t\t\t\t\t\t\t\t\t\t\t\t\t\t\t\t\t\t\t\t\t\t\t\t\t\t\t\t\t\t\t\t\t\t\t\t\t\t\t\t\t\t\t\t\t\t\t\t\t\t\t\t\t\t\t\t\t\t\t\t\t\t\t\t\t\t\t\t\t\t\t\t\t\t\t\t\t\t\t\t\t\t\t\t\t\t\t\t\t\t\t\t\t\t\t\t\t\t\t\t\t\t\t\t\t\t\t\n",
            "\n",
            "[150 | 446.81] loss=1.68 avg=2.15\n",
            "[160 | 470.04] loss=1.66 avg=2.12\n",
            "Saving checkpoint/run1/model-160\n",
            "======== SAMPLE 1 ========\n",
            "\t\u0012\t\t\t\t\t\t\t\t\t\t\t\t\t\t\t\t\t\t\t\t\t\t\t\t\t\t\t\t\t\t\t\t\t\t\t\t\t\t\t\t\t\t\t\t\t\t\t\t\t\t\t\t\t\t\t\t\t\t\t\t\t\t\t\t\t\t\t\t\t\t\t\t\t\t\t\t\t\t\t\t\t\t\t\t\t\t\t\t\t\t\t\t\t\t\t\t\t\t\t\t\t\t\t\t\t\t\t\t\t\t\t\t\t\t\t\t\t\t\t\t\t\t\t\t\t\t\t\t\t\t\t\t\t\t\t\t\t\t\t\t\t\t\t\t\t\t\t\t\t\t\t\t\t\t\t\t\t\t\t\t\t\t\t\t\t\t\t\t\t\t\t\t\t\t\t\t\t\t\t\t\t\t\t\t\t\t\t\t\t\t\t\t\t\t\t\t\t\t\t\t\t\t\t\t\t\t\t\t\t\t\t\t\t\t\t\t\t\t\t\t\t\t\t\t\t\t\t\t\t\t\t\t\t\t\t\t\t\t\t\t\t\t\t\t\t\t\t\t\t\t\t\t\t\t\t\t\t\t\t\t\t\t\t\t\t\t\t\t\t\t\t\t\t\t\t\t\t\t\t\t\t\t\t\t\t\t\t\t\t\t\t\t\t\t\t\t\t\t\t\t\t\t\t\t\t\t\t\t\t\t\t\t\t\t\t\t\t\t\t\t\t\t\t\t\t\t\t\t\t\t\t\t\t\t\t\t\t\t\t\t\t\t\t\t\t\t\t\t\t\t\t\t\t\t\t\t\tembedreportprint\t\t\t\t\t\t\t\t\t\t\t\t\t\t\t\t\t\t\t\t\t\t\t\t\t\t\t\t\t\t\t\t\t\t\t\t\t\t\t\t\t\t\t\t\t\t\t\t\t\t\t\t\t\t\t\t\t\t\t\t\t\t\t\t\t\t\t\t\t\t\t\t\t\t\t\t\t\t\t\t\t\t\t\t\t\t\t\t\t\t\t\t\t\t\t\t\t\t\t\t\t\t\u0015\t\t\t\t\t\t\t\t\t\t\t\t\t\t\t\t\t\t\t\t\t\t\t\t\t\t\t\t\t\t\t\t\t\t\t\t\t\t\t\t\t\t\t\t\t\t\t\t\t\t\t\t\t\t\t\t\t\t\t\t\t\t\t\t\t\t\t\t\t\t\t\t\t\t\t\t\t\t\t\t\t\t\t\t\t\t\t\t\t\t\t\t\t\t\t\t\t\t\t\t\t\t\t\t\t\t\t\t\t\t\t\t\t\t\t\t\t\t\t\t\t\t\t\t\t\t\t\t\t\t\t\t\t\t\t\t\t\t\t\t\t\t\t\t\t\t\t\t\t\t\t\t\t\t\t\t\t\t\t\t\t\t\t\t\t\t\t\t\t\t\t\t\t\t\t\t\t\t\t\t\t\t\t\t\t\t\t\t\t\t\t\t\t\t\t\t\t\t\t\t\t\t\t\t\t\t\t\t\t\t\t\t\t\t\t\t\t\t\t\t\t\t\t\t\t\t\t\t\t\t\t\t\t\t\t\t\t\t\t\t\t\t\t\t\t\t\t\t\t\t\t\t\t\t\t\t\t\t\t\t\t\t\t\t\t\t\t\t\t\t\t\t\t\t\t\t\t\t\t\t\t\t\t\t\t\t\t1861-12-29\tAbraham Lincoln attended with the same vigor exhibited by a spirited, spirited, and intelligent child.In 1862 Douglas delivered the Union at Gettysburg. This year Douglas also delivered the inaugural inaugural address at the same place.At the same time Douglas delivered his inaugural address in a manner similar to that of Lincoln, and which was substantially the same in tone and duration. The inaugural address was delivered at Gettysburg on the twenty-third day of January, 1861. In the same way Lincoln delivered his inaugural address during the last quarter of the same year. In the same hall at Gettysburg, for the inauguration of his second wife, were also President James I., and by a similar direct and direct communication he inaugurated the first Presidential administration, and afterwards inaugurated the first and only African-American Republic of the Union. In the same hall at Gettysburg during the final week of March each of the first and second terms of the same administration, the same man, with his first inaugural address and his inaugural address and his inaugural address delivered the same same terms, and were joined by Henry Clay, the first President of the United States. Thus, the inaugural address of the first President which was delivered at Gettysburg and which was delivered at Gettysburg were delivered the same terms, and were delivered the same two terms, the same two terms\n",
            "\n",
            "[170 | 505.92] loss=1.93 avg=2.10\n",
            "[180 | 529.09] loss=0.87 avg=2.03\n",
            "Saving checkpoint/run1/model-180\n",
            "======== SAMPLE 1 ========\n",
            " forward to any dispute concerning the claims of the State against the United States or the Territories under this act; provided, however, that no State, under any law to which the present act applies, may make, or issue or transmit, any instrument as to lands belonging to the United States; provided further, that the United States may provide for the withholding and other action against nonpayment of the full cost of such appropriation, with a refund or satisfaction of such full cost if such obligation can have no other reasonable motive than that it should be so demanded. For our attention to foreign and domestic questions see our Collected Works, Second, Second Annual, and last Congresses and Collected Works. It may be said the provisions of the act do not expressly authorize the United States to exclude any land from their appropriation as a foreign land. Our understanding is, that the lands and their resources in these lands (except for sacred and sacred sites ) may be brought back into the United States by their State, and, as such, taken from the United States. This is to be done only when the interest thereof is secured from foreign countries or made manifest to them that such land shall be ours. But, as such, they be kept free to exclude from it any other land than their own, and, as such, the lands which are rightfully theirs. They may also apply the law of invasion to that land, and to any foreign land which they choose to exclude. But Congress having no power to exclude a foreign territory from its appropriation as a foreign land, and having no power to exclude them from their appropriation as a domestic, having enacted no such act before Congress having enacted it, we may fairly infer their understanding is right, that this is an equitable way of putting the United States out of our foreign and domestic troubles. Our understanding is they will do just what they can. Congress may exclude from theirs any land which they choose to exclude as a foreign land, provided such land be of foreign national naturalizations. But we insist that no such land can be taken for commercial purposes - we insist that no land be taken for any thing which we can not lawfully make out of the soil, with proper regard to taste and condition. Nor can such land be taken as a slave or bought, with fair prices or cheap terms. Any land deemed to be an unimportant national interest, is, we think, exempt from restriction. Whenever there is a reasonable prospect that there might be another land, it can never be taken or owned without the consent of the owner; and unless such land is taken by the United States in derogation of anything in the act itself, it is never taken to be the United States. This is the general principle. Whenever, either in times of peace on our part, or in regard to foreign affairs, the United States have an interest, or in times of war on our part, a national interest may not arise, they have, so far as is possible, left the other to themselves. If it be claimed that this nation has no national interest in the land in question, it is simply absurd; but if it be claimed that, at all times on the earth, whatever it may have been, it always has been our national interest. Our national interest in lands has always been our national interest. But since our own nation and our territory have been acquired and taken and taken and taken again and again from foreigners, they have sought to exclude us from taking them from foreigners. This is the fundamental principle of international law, which forbids the taking or possession of national and property acquired or held up as private property. It is, therefore, not a question whether a national interest in lands should or should not be claimed against the United States; for it is not inconsistent to say that the United States have no national interest in what lies before them, or to say that such an interest, if claimed at all on its own behalf, must necessarily be demanded by us, or could reasonably be demanded by foreigners. But if a national duty should ever lie before us to exclude us from taking from foreigners what lands are rightfully ours and rightfully ours; we hold all that, and any claims we have to them. Nor does it seem to us, that, in any such case, any right of possession to any such land, as is rightfully ours, could reasonably be offered to foreigners, or any rights, rights, privileges or immunities of any kind, against our acquiring it. Thus neither the States now within the national power, or otherwise within their power to exclude and to keep from foreigners any national interest, could reasonably be demanded from foreigners. That we have no national interest in lands which are rightfully ours, and may rightfully rightfully be offered to aliens, or from foreigners, is altogether clear; and, therefore, that no right or interest which Congress may have in them, must necessarily be taken from them. But I wish to say that, if we should have such a right, the country should have such an interest with us, if, as it rightfully was, we should never have taken it, without the\n",
            "\n",
            "[190 | 565.38] loss=1.25 avg=1.98\n",
            "[200 | 588.53] loss=1.69 avg=1.97\n",
            "Saving checkpoint/run1/model-200\n",
            "======== SAMPLE 1 ========\n",
            " Why will it not come as a shock that, with each passing day, the spirit which dominates the heart of an influential writer will make him seem more noble and patriotic than in any wise he has ever shown to the world? It might also be supposed that in all the great, international incidents one would expect greater unanimity upon this general point than might be expected in many other such incidents. But, in truth, no such unanimity was expected; and the result of the most important and important of all, the most heated and passionate of which all the history of that great world has been a part, suggests in part that it is not quite so, that some one may be quite convinced that there is anything which is really right nor much wrong within the world. For that reason we are at least partially correct in saying that there is not one cause or effect which, at any moment, can be decisively and precisely condemned as wrong. No one can say that at the beginning of the century, when great events were at least passing in our world, there was a great sentiment against slavery or against any of the wrongs and wrongs which are now at once openly known and openly condemned, in the North of South Carolina, in Illinois, and in Illinois, there; it had any tendency, in fact, towards being ever so vehemently opposed. That sentiment has never wavered. What is still more astonishing, is that in all that country, there is absolutely no opinion against slavery or against any of the wrongs and wrongs which are just now openly professed; and we are not at all alarmed at any of them. The South has never been so oppressed, or so vicious and cruel as it is; and it is believed, nevertheless, that the very act of freeing any slave is just and just in its view; but we do not know whether the doctrine is held by one of the North, or by any of them; and all we know of it is that some of them think it absurd and wrong to do otherwise; and we are willing to bet that, as it has always been, this opinion will not be fully repudiated. Nor is this merely a case of a feeling of injustice or wickedness upon the part of the one who advocates slavery; and it is not to be forgotten that this feeling is expressed by some of the South's most prominent men, chiefly, Mr. Franklin, Mr. Douglas, and Mr. Clay. It is true that Mr. Clay is one of them; and we have a joint sketch of one of his last speeches, written in 1803, which I have copied from that of myself, and which I have transmitted to you. Some of those speeches are extant; and the fact will not be overlooked, that this is a very frank and frank speech by Mr. Clay for a man who lives, as he does, in a high political home, and that it is not as though this was written for himself. Mr. Douglas, of course, is not a party man, nor is he an advocate or a mysticism; but he is a true North fellow. The views of the South in regard to slavery are in accord with these views, and, consequently, I have not questioned, questioned the rights of individuals or any of them. The policy of the Government is as to slavery as they, or the slave states, are; and, therefore, slavery in the South as it is is no less of moral wrong than those in any other great country can be no less of wrong, or at all things at all times worse. For, as I understand, a great part of it is right and proper; while, not all of it is wrong and wrong at all times. What is right and right, in this case, can not be stated. The prohibition as to slaves, in both North and South Carolina, is in each case just and right and in accordance with the law of the South; and there is no dispute as to whether it is wrong in either; unless, of course, the contrary is said to be wrong. Whoever, then, holds to the policy of the South in regard to slaves, as I understand, is guilty of a great deal more than all others, can have his right questioned and his wrong tried. I can not say what the general practice of the world is upon the question of slavery; but, in fact, I think we must inquire whether, with reference to that question, it is consistent with the constitution of the Union, as to freedom and nonnegotitude, to go to wherever and in every way the law will not do justice upon it; and, as in all good public policy, the greatest advantage to be gained by the cheapest of all means is not the preservation of a free people from danger and all other disadvantages inflicted by government, but, upon the contrary, it benefits the well being of its members and the well being of the nation as a whole by helping to keep the public well, and for its own benefit preserving the peace which we know and have known and have retained\n",
            "\n",
            "[210 | 624.92] loss=0.85 avg=1.91\n",
            "[220 | 648.09] loss=1.51 avg=1.89\n",
            "Saving checkpoint/run1/model-220\n",
            "======== SAMPLE 1 ========\n",
            "\t RandomRedditor\t\t\t\t\t\t\t\t\t\t\t\t\t\t\t\t\t\t\t\t\t\t\t\t\t\t\t\t\t\t\t\t\t\t\t\t\t\t\t\t\t\t\t\t\t\t\t\t\t\t\t\t\t\t\t\t\t\t\t\t\t\t\t\t\t\t\t\t\t\t\t\t\t\t\t\t\t\t\t\t\t\t\t\t\t\t\t\t\t\t\t\t\t\t\t\t\t\t\t\t\t\t\t\t\t\t\t\t\t\t\t\t\t\t\t\t\t\t\t\t\t\t\t\t\t\t\t\t\t\t\t\t\t\t\t\t\t\t\t\t\t\t\t\t\t\t\t\t\t\t\t\t\t\t\t\t\t\t\t\t\t\t\t\t\t\t\t\t\t\t\t\t\t\t\t\t\t\t\t\t\t\t\t\t\t\t\t\t\t\t\t\t\t\t\t\t\t\t\t\t\t\t\t\t\t\t\t\t\t\t\t\t\t\t\t\t\t\t\t\t\t\t\t\t\t\t\t\t\t\t\t\t\t\t\t\t\t\t\t\t\t\t\t\t\t\t\t\t\t\t\t\t\t\t\t\t\t\t\t\t\t\t\t\t\t\t\t\t\t\t\t\t\t\t\t\t\t\t\t\t\t\t\t\t\t\t\t\t\t\t\t\t\t\t\t\t\t\t\t\t\t\t\t\t\t\t\t\t\t\t\t\t\t\t\t\t\t\t\t\t\t\t\t\t\t\t\t\t\t\t\t\t\t\t\t\t\t\t\t\t\t\t\t\t\t\t\t\t\t\t\t\t\t\t\t\t\t\t\t\t\t\t\t\t\t\t\t\t\t\t\t\t\t\t\t\t\t\t\t\t\t\t\t\t\t\t\t\t\t\t\t\t\t\t\t\t\t\t\t\t\t\t\t\t\t\t\t\t\t\t\t\t\t\t\t\t\t\t\t\t\t\t\t\t\t\t\t\t\t\t\t\t\t\t\t\t\t\t\t\t\t\t\t\t\t\t\t\t\t\t\t\t\t\t\t\t\t\t\t\t\t\t\t\t\t\t\t\t\t\t\t\t\t\t\t\t\t\t\t\t\t\t\t\t\t\t\t\t\t\t\t\u0004\t\t\t\t\t\t\t\t\t\t\t\t\t\t\t\t\t\t\t\t\t\t\t\t\t\t\t\t\t\t\t\t\t\t\t\t\t\t\t\t\t\t\t\t\t\t\t\t\t\t\t\t\t\t\t\t\t\t\t\t\t\t\t\t\t\t\t\t\t\t\t\t\t\t\t\t\t\t\t\t\t\t\t\t\t\t\t\t\t\t\t\t\t\t\t\t\t\t\t\t\t\t\t\t\t\t\t\t\t\t\t\t\t\t\t\t\t\t\t\t\t\t\t\t\t\t\t\t\t\t\t\t\t\t\t\t\t\t\t\t\t\t\t\t\t\t\t\t\t\t\t\t\t\t\t\t\t\t\t\t\t\t\t\t\t\t\t\t\t\t\t\t\t\t\t\t\t\t\t\t\t\t\t\t\t\t\t\t\t\t\t\t\t\t\t\t\t\t\t\t\t\t\t\t\t\t\t\t\t\t\t\t\t\t\t\u0004\t\t\t\t\t\t\t\t\t\t\t\t\t\t\t\t\t\t\t\t\t\t\t\t\t\t\t\t\t\t\t\t\t\t\t\t\t\t\t\t\t\t\t\t\t\t\t\t\t\t\t\t\t\t\t\t\t\t\t\t\t\t\t\t\t\t\t\t\t\t\t\t\t\t\t\t\t\t\t\t\t\t\t\t\t\t\t\t\t\t\t\t\t\t\t\t\t\t\t\t\t\t\t\t\t\t\t\t\t\t\t\t\t\t\t\t\t\t\t\t\t\t\t\t\t\t\t\t\t\t\t\t\t\t\t\t\t\t\t\t\t\t\t\t\t\t\t\t\t\t\t\t\t\t\t\t\t\t\t\t\t\t\t\t\t\t\t\t\t\t\t\t\t\t\t\t\t\t\t\t\t\t\t\t\t\t\t\t\t\t�\t\t\t\t\t\t\t\t\t\t\t\t\t\t\t\t\t\t\t\t\t\t\t\t\t\t\t\t\t\t\t\t\t\t\t\t\t\t\t\t\t\t\t\t\t\t\t\t\t\t\t\t\t\t\t\t\t\t\t\t\t\t\t\t\t\t\t\t\t\t\t\t\t\t\t\t\t\t\t\t\t\t\t\t\t\t\t\t\t\t\t\t\t\t\t\t\t\t\t\t\t\t\t\t\t\t\t\t\t\t\t\t\t\t\t\t\t\t\t\t\t\t\t\n",
            "\n",
            "[230 | 683.90] loss=1.75 avg=1.88\n",
            "[240 | 707.19] loss=1.29 avg=1.85\n",
            "Saving checkpoint/run1/model-240\n",
            "======== SAMPLE 1 ========\n",
            " wise, if we can, to prevent the practice of religion which is cruel to itself by disrupting peace with neighboring nations, to which we seem to be susceptible. And while this would not amount to universal evil, I think it would be quite tolerable for most of those who practice it to be free. I have thought it proper to give the annual general congress the same powers which were given for that body, so that even those who hold these ordinary offices, would, on the whole, easily obtain the offices themselves. The States by which the millions of these States in good and ample numbers go out of the business of administering the Government, are those where the principal part of the net migration is from foreign lands. The Territories of the United States, South and West. 181 South America. Chile, Nicaragua, Honduras, Costa Rica, Costa Rica, Nicaragua, Honduras, Nicaragua. Costa Rica, Nicaragua, Peru, Paraguay, Costa Rica, Nicaragua, Nicaragua, Nicaragua, Chile, Nicaragua, Paraguay, Chile, Mexico, Nicaragua, Peru, Costa Rica, Nicaragua, Chile, Nicaragua, Connecticut, Connecticut, Massachusetts, Massachusetts, Rhode Island, Missouri, Louisiana, Connecticut, Ohio, Nevada, Massachusetts, Idaho, Chile, Nicaragua, Nicaragua, Colorado, Massachusetts, Rhode Island, Oregon, Massachusetts, Virginia, and South Carolina, and Florida, and Chile, Mexico, Chile, Nicaragua, Bolivia, Peru, Nicaragua y Libertad, Chile, Nicaragua y Tana, Chile, Bolivia, Peru, Chile, Chile y Gondola, Chile y Muraco, Nicaragua y Muraco, Nicaragua y Muraco, Peru y Muraco, Chile y Muraco, Paraguay, Chile, Peru y Muraco y Lima, and Chile y Colonnade, â€œIt is fortunate that our countrymen have so frequently suffered abuse as this, and have been much comforted by the fact that, although we have many slaves, few of them can freely be bought and sold. It is also very gratifying to know that while the public authorities are trying to free several millions of poor and unsound men who have been torn from their homes and thrown into the fields, some remaining men have ventured to seek the aid of cheap labor upon the scaffold or in the yard of the rich, and are all too successful. Our system exhibits even this most fortunate feature of our country. There are not more than 150,000 seamen in the United States. Nor are there as many seamen as on our coast, but the number is much reduced. Thus, in the case of Florida, there are less than 100 seamen to this extent, and the total labor force here is about 75,000 seamen. It would appear as if additional territories could be formed in the same way. It seems only fitting, then, that some part of the territory should be called Texas. Some claim a boundary east of Arkansas, and some claim a boundary west of Tennessee, but no territory of any sort is yet claimed. The United States as we inhabit, have no claims upon it for the same reason as men claim a border over the country south of ours. It is a free territory not of the human species, but inhabited by men of our own kind, and with them we have no evil effect. It is not, however, in all the nations of the earth, where the free institutions of government have been introduced, as is here indicated, for the domination of human species. What we are, and may be, truly free in no sense of being. If it were, there would be no government; there would be no slavery; there would be no laws prohibiting human property, no scaffolding, no fire, no horn; and no government, on the contrary, would be possible. And thus the free people would cease to be free without human intervention, and there would be no government. A government would be perfect, indissoluble in its principle, and unconditional in its efficiency, producing a just society. It is but a vague sketch of the ultimate end of civilization, which is to be attained by all men as rapidly as possible. Such can only be attained by the steady work and continual progress of nature. The human race as a whole, being constantly changing, must always strive to perfect, to make perfect. Is it not, I think, true that if the progress of nature were steady, if the world were constantly in its perfect course, the whole world would cease to be a mere niche, and cease to be in motion as rapidly as the light of day? If, on the contrary, we could perfect faster than light, we should surely be in a beginning of the perfect condition of all living things; and this I believe to be true. We have for many ages long struggled with the clear and certain question of the existence of a moral universe. The answer to the question which we now face is that of a moral universe in which all men are just as alike in their actions and in their nature according to their own individual condition. The answer to this is\n",
            "\n",
            "[250 | 743.44] loss=1.31 avg=1.83\n",
            "[260 | 766.56] loss=1.75 avg=1.83\n",
            "Saving checkpoint/run1/model-260\n",
            "======== SAMPLE 1 ========\n",
            " in our relations to all races, so that our relations to the national races can not be endangered by our intercourse with them. Such are our views on the subject of slavery and of the Indian question; and I hope to be able in the near future to give frank, candid and valuable opinions as to them. I thank God, too, that the correspondence has not been lost and continues to be lost; for it is certainly very valuable to those who know it, and, as well, to those who do not know it, for there is more at stake. The nation as a whole is in complete perplexity. Is slavery just as absurd as some suppose of some nations? Are we permitted to commit the monstrous grossest slave-trade in our history? Are we permitted to do away with our national fabric? Is some nation permitted to do away with its very nature? And how can we reconcile this with the rights of others? This whole question presents a very serious and complex question which demands in its nature a careful investigation by an entirely impartial and professional body, not necessarily of this nation itself but also of all other nations under our vast system of free consigs within our range. We can not, on this ground, tolerate this slavery question, and must demand of every nation the right of a free negro to be brought to its own people, wherever he may be found. Under such a slavery slavery is a nation â€œsubject only to the Eighth Commandmentâ€â€â€â€, that if any one nation shall commit an offense against this Commandment, that nation shall be guilty only of seceding from the Union; and that nation â€œsubject only to the ââ€œExecutive orderâ€â€â€â€,â€â€â€â€â€â€â€ââ€ââ€â $â€â€â€â€â€â€â€â€â€are we to believe, that that nation is guilty of no other crime under our system of free consigs than this one seceding from it, and then cooperating with that nation to carry it to its own peopleâ€â€â€â€â€â€â€â€â€â€â€â€â€â€â€â€â€â€â€â€â€â€\t\t\t\t\t\t\t\t\t\t\t\t\t\t\t\t\t\t\t\t\t\t\t\t\t\t\t\t\t\t\t\t\t\t\t\t\t\t\t\t\t\t\t\t\t\t\t\t\t\t\t\t\t\t\t\t\t\t\t\t\t\t\t\t\t\t\t\t\t\t\t\t\t\t\t\t\t\t\t\t\t\t\t\t\t\t\t\t\t\t\t\t\t\t\t\t\t\t\t\t\t\t\t\t\t\t\t\t\t\t\t\t\t\t\t\t\t\t\t\t\t\t\t\t\t\t\t\t\t\t\t\t\t\t\t\t\t\t\t\t\t\t\t\t\t\t\t\t\t\t\t\t\t\t\t\t\t\t\t\t\t\t RandomRedditor\t\t\t\t\t\t\t\t\t\t\t\t\t\t\t\t\t\t\t\t\t\t\t\t\t\t\t\t\t\t\t\t\t\t\t\t\t\t\t\t\t\t\t\t\t\t\t\t\t\t\t\t\t\t\t\t\t\t\t\t\t\t\t\t\t\t\t\t\t\t\t\t\t\t\t\t\t\t\t\t\t\t\t\t\t\t\t\t\t\t\t\t\t\t\t\t\t\t\t\t\t\t\t\t\t\t\t\t\t\t\t\t\t\t\t\t\t\t\t\t\t\t\t\t\t\t\t\t\t\t\t\t\t\t\t\t\t\t\t\t\t\t\t\t\t\t\t\t\t\t\t\t\t\t\t\t\t\t\t\t\t\t\t\t\t\t\t\t\t\t\t\t\t\t\t\t\t\t\t\t\t\t\t\t\t\t\t\t\t\t\t\t\t\t\t\t\t\t\t\t\t\t\t\t\t\t\t\t\t\t\t\t\t\t\t\t\t\t\t\t\t\t\t\t\t\t\t\t\t\t\t\t\t\t\t\t\t\t\t\t\t\t\t\t\t\t\t\t\t\t\t\t\t\t\t\t\t\t\t\t\t\t\t\t\t\t\t\t\t\t\t\t\t\t\t\t\n",
            "\n",
            "[270 | 802.34] loss=0.97 avg=1.79\n",
            "[280 | 825.55] loss=0.94 avg=1.76\n",
            "Saving checkpoint/run1/model-280\n",
            "======== SAMPLE 1 ========\n",
            "\t\t\t\t\t\t\t\t\t\t\t\t\t\t\t\t\t\t\t\t\t\t\t\t\t\t\t\t\t\t\t\t\t\t\t\t\t\t\t\t\t\t\t\t\t\t\t\t\t\t\t\t\t\t\t\t\t\t\t\t\t\t\t\t\t\t\t\t\t\t\t\t\t\t\t\t\t\t\t\t\t\t\t\t\t\t\t\t\t\t\t\t\t\t\t\t\t\t\t\t\t\t\t\t\t\t\t\t\t\t\t\t\t\t\t\t\t\t\t\t\t\t\t\t\t\t\t\t\t\t\t\t\t\t\t\t\t\t\t\t\t\t\t\t\t\t\t\t\t\t\t\t\t\t\t\t\t\t\t\t\t\t\t\t\t\t\t\t\t\t\t\t\t\t\t\t\t\t\t\t\t\t\t\t\t\t\t\t\t\t\t\t\t\t\t\t\t\t\t\t\t\t\t\t\t\t\t\t\t\t\t\t\t\t\t\t\t\t\t\t\t\t\t\t\t\t\t\t\t\t\t\t\t\t\t\t\t\t\t\t\t\t\t\t\t\t\t\t\t\t\t\t\t\t\t\t\t\t\t\t\t\t\t\t\t\t\t\t\t\t\t\t\t\t\t\t\t\t\t\t\t\t\t\t\t\t\t\t\t\t\t\t\t\t\t\t\t\t\t\t\t\t\t\t\t\t\t\t\t\t\t\t\t\t\t\t\t\t\t\t\t\t\t\t\t\t\t\t\t\t\t\t\t\t\t\t\t\t\t\t\t\t\t\t\t\t\t\t\t\t\t\t\t\t\t\t\t\t\t\t\t\t\t\t\t\t\t\t\t\t\t\t\t\t\t\t\t\t\t\t\t\t\t\t\t\t\t\t\t\t\t\t\t\t\t\t\t\t\t\t\t\t\t\t\t\t\t\t\t\t\t\t\t\t\t\t\t\t\t\t\t\t\t\t\t\t\t\t\t\t\t\t\t\t\t\t\t\t\t\t\t\t\t\t\t\t\t\t\t\t\t\t\t\t\t\t\t\t\t\t\t\t\t\t\t\t�\t\t\t\t\t\t\t\t\t\t\t\t\t\t\t\t\t\t\t\t\t\t\t\t\t\t\t\t\t\t\t\t\t\t\t\t\t\t\t\t\t\t\t\t\t\t\t\t\t\t\t\t\t\t\t\t\t\t\t\t\t\t\t\t\t\t\t\t\t\t\t\t\t\t\t\t\t\t\t\t\t\t\t\t\t\t\t\t\t\t\t\t\t\t\t\t\t\t\t\t\t\t\t\t\t\t\t\t\t\t\t\t\t\t\t\t\t\t\t\t\t\t\t\t\t\t\t\t\t\t\t\t\t\t\t\t\t\t\t\t\t\t\t\t\t\t\t\t\t\t\t\t\t\t\t\t\t\t\t\t\t\t\t\t\t\t\t\t\t\t\t\t\t\t\t\t\t\t\t\t\t\t\t\t\t\t\t\t\t\t\t\t\t\t\t\t\t\t\t\t\t\t\t\t\t\t\t\t\t\t\t\t\t\t\t\t\t\t\t\t\t\t\t\t\t\t\t\t\t\t\t\t\t\t\t\t\t\t\t\t\t\t\t\t\t\t\t\t\t\t\t\t\t\t\t\t\t\t\t\t\t\t\t\t\t\t\t\t\t\t\t\t\t\t\t\t\t\t\t\t\t\t\t\t\t\t\t\t\t\n",
            "\t\t\t\t\t\t\t\t\t\t\t\t\t\t\t\t\t\t\t\t\t\t\t\t\t\t\t\t\t\t\t\t\t\t\t\t\t\t\t\t\t\t\t\t\t\t\t\t\t\t\t\t\t\t\t\t\t\t\t\t\t\t\t\t\t\t\t\t\t\t\t\t\t\t\t\t\t\t\t\t\t\t\t\t\t\t\t\t\t\t\t\t\t\t\t\t\t\t\t\t\t\t\t\t\t\t\t\t\t\t\t\t\t\t\t\t\t\t\t\t\t\t\t\t\t\t\t\t\t\t\t\t\t\t\t\t\t\t\t\t\t\t\t\t\t\t\t\t\t\t\t\t\t\t\t\t\t\t\t\t\t\t\t\t\t\t\t\t\t\t\t\t\t\t\t\t\t\t\t\t\t\t\t\t\t\t\t\t\t\t\t\t\t\t\t\t\t\t\t\t\t\t\t\t\t\t\t\t\t\t\t\t\t\t\t\t\t\t\t\t\t\t\t\t\t\t\t\t\t\t\t\t\t\t\t\t\t\t\t\t\t\t\t\t\t\t\t\t\t\t\t\t\t\t\t\t\t\t\t\t\t\t\t\t\t\t\t\n",
            "\n",
            "[290 | 861.42] loss=0.45 avg=1.70\n",
            "[300 | 884.61] loss=0.88 avg=1.67\n",
            "Saving checkpoint/run1/model-300\n"
          ],
          "name": "stdout"
        }
      ]
    },
    {
      "cell_type": "markdown",
      "metadata": {
        "id": "ClJwpF_ACONp"
      },
      "source": [
        "## Generate Text From The Trained Model\n",
        "\n",
        "After you've trained the model or loaded a retrained model from checkpoint, you can now generate text. `generate` generates a single text from the loaded model."
      ]
    },
    {
      "cell_type": "markdown",
      "metadata": {
        "id": "SGvrmMJtXiL-"
      },
      "source": [
        "### Output Explanation\n",
        "Speaking of generation, once you have a finetuned model, you can now generate custom text from it! By default, the gpt2.generate() function will generate as much text as possible (1,024 tokens) with a little bit of randomness. An important caveat: you will not get good generated text 100% of the time, even with a properly trained model (you can acheive at this satage but may took 25 tries to get good text!)"
      ]
    },
    {
      "cell_type": "code",
      "metadata": {
        "colab": {
          "base_uri": "https://localhost:8080/"
        },
        "id": "ny-e6eyoD2Qw",
        "outputId": "09cb7564-2e12-47d4-ef2d-82ab09876701"
      },
      "source": [
        "gpt2.generate(sess, run_name = \"run1\")"
      ],
      "execution_count": null,
      "outputs": [
        {
          "output_type": "stream",
          "text": [
            "We can also safely assume that the impossible might be averted. The facts are that the Union has gone into such a state of ruin that it can not go a step beyond its accustomed bounds; and that the Union itself has ceased to be a reliable and enduring arm of the Government. The country has become so divided and divided that it can not be able to repair to its former condition the whole expenditure of its annual revenues, which were derived from foreign nations only. All the resources of the country have ceased to be of use to the Government, while all its civil institutions have ceased to be of use to the people. The people have lost their confidence in the Government, and have demanded from the people the absolute removal of the Government. This demand has been made in large part by the disunionists, and has been made in large measure in the most extensive and extensive demonstrations. The people have also become angry, and have demanded the immediate abolition of the Government. This has caused the agitation of the country, and has been specially intended to produce a general insurrection. A general convention has been appointed to that purpose, composed of the dissident deputies of the Government, and all the States, to which the people of the country may be entitled. The people have adopted and adopted a resolution assailing the Government, calling for the immediate removal of the President, the convention for that purpose, and for the substitution of a Judge for the vacant Supreme Judge of the Court of Claims. These and other such resolutions, though they are scarcely more than reflections of public opinion, are unobjectionable to the people, and ought to be promptly and cheerfully repeated. I ask the attention of Congress to the suggestions in these resolutions, and recommend that they should be adopted as soon as practical time can permit. I ask that they should be read at the same time as a law for the suppression of slavery in the United States. I ask that Congress, by the act of the last Congress, enjoin the enforcement of the act of Congress for the benefit of all men, free and slave, as well as of all others. These suggestions will be equally effective in restraining the rebellion of the people against the Government. And I ask the attention of Congress to the recommendations of the report of the Secretary of the Interior, for the purpose. I ask the attention of Congress to the report of the Secretary of the Interior, for the same object, and the objecting of it a report for the consideration of Congress, containing both the history of the field and all the important features of the subject. I commend the patriotism, the theistry, the the arts, and the professions of the public men to the greatest credit, and respectfully ask the attention of Congress to the report of the Secretary of the Interior, for the same object. During the past year I have been engaged as legation commissioner in the Eastern States, and have received by the Senate a sum equal to the sum of $ 2,405,000. I have received compensation for expenses, imprisonment, and commissions, as well as for expenses, to the great credit of the States. I have agreed to reimburse the principal amount of the grant, to be borne by the United States, from the great State of Kansas, for reasonable expenses, which were contracted by the late States of Myromay, and expended in the execution of the grant. I have also agreed to reimburse the sum of $ 2,125,000, to be derived from the same appropriation, from the revenue derived from all other sources from the same mode of transportation, the same rates of interest, and the same rates of interest on bonds deposited, against interest paid, and interest on treasury bonds, against the deficiency of revenue bonds, as shall be sufficient to meet the expenses and to meet the expenses of the Department. I have also agreed to cause an annual report, to be known as the \"Aqua Pele,\" to be furnished to the States by the people of the United States, containing, as appears, the whole of the history of the field, and all the information and other facts required for the understanding of the people, to the satisfaction of all the parties. I have also provided for the proper administration by the Secretary of the Treasury, in his absence, of the moneys received from sources in the public lands, to be used only for the suppression of the slavery trade, and not to be expended to aid in the removal of the unfortunate. I have directed the Secretary of the Interior to cause to be made known to the public the names of all persons desirous of becoming citizens, and the dates upon which they shall be chosen, to be deposited in the Government Printing Office, and the names of those chosen to the same purpose made public, in a conspicuous place. It is hoped that this subject will stimulate patriotic sentiments, and will give occasion for patriotic legislation. The interest of the nation in our political system is constantly improving. The demands upon the resources of the nation are increasing. The great industrial powers are organizing their energies to produce a speedy and abundant supply of national products\n"
          ],
          "name": "stdout"
        }
      ]
    },
    {
      "cell_type": "markdown",
      "metadata": {
        "id": "oF4-PqF0Fl7R"
      },
      "source": [
        "\n",
        "\n",
        "You can also pass in a `prefix` to the generate function to force the text to start with a given character sequence and generate text from there (good if you add an indicator when the text starts).\n",
        "\n",
        "You can also generate multiple texts at a time by specifing `nsamples`. Unique to GPT-2, you can pass a `batch_size` to generate multiple samples in parallel, giving a massive speedup (in Colaboratory, set a maximum of 20 for `batch_size`).\n",
        "\n",
        "Other optional-but-helpful parameters for `gpt2.generate` and friends:\n",
        "\n",
        "*  **`length`**: Number of tokens to generate (default 1023, the maximum)\n",
        "* **`temperature`**: The higher the temperature, the crazier the text (default 0.7, recommended to keep between 0.7 and 1.0)\n",
        "* **`top_k`**: Limits the generated guesses to the top *k* guesses (default 0 which disables the behavior; if the generated output is super crazy, you may want to set `top_k=40`)\n",
        "* **`top_p`**: Nucleus sampling: limits the generated guesses to a cumulative probability. (gets good results on a dataset with `top_p=0.9`)\n",
        "* **`truncate`**: Truncates the input text until a given sequence, excluding that sequence (e.g. if `truncate='<|endoftext|>'`, the returned text will include everything before the first `<|endoftext|>`). It may be useful to combine this with a smaller `length` if the input texts are short.\n",
        "*  **`include_prefix`**: If using `truncate` and `include_prefix=False`, the specified `prefix` will not be included in the returned text."
      ]
    },
    {
      "cell_type": "code",
      "metadata": {
        "colab": {
          "base_uri": "https://localhost:8080/"
        },
        "id": "GTM6qCX6ES7B",
        "outputId": "82861c5a-deec-4960-db19-e4ec7aef3e6b"
      },
      "source": [
        "prefix_gen = \"\"\"Title: Advise for Americans\n",
        "Date: Jan 13, 2021 2:30 am\n",
        "Tags: Disagreement, Web/Tech\n",
        "Number of comments: 23\n",
        "People often like to believe that America is strong but be aware\"\"\"\n",
        "\n",
        "gpt2.generate(sess,\n",
        "              length=250,\n",
        "              #prefix=\"harry potter was about to die\",\n",
        "              prefix = prefix_gen,\n",
        "              nsamples=5,\n",
        "              batch_size=5,\n",
        "              top_k=40\n",
        "              )"
      ],
      "execution_count": null,
      "outputs": [
        {
          "output_type": "stream",
          "text": [
            "Title: Advise for Americans\n",
            "Date: Jan 13, 2021 2:30 am\n",
            "Tags: Disagreement, Web/Tech\n",
            "Number of comments: 23\n",
            "People often like to believe that America is strong but be aware that it is weak. This is not true. Our strength is in the people, not in the strength of our politicians. Our strength is in the people who control them. It is not in our politicians that we are weak. It is in the people who control us. The strength of our people is in their willingness to take the responsibilities of government down our throats and to take the chances of succeeding. In this respect, they are our greatest strength. They are the men who brought us to this country; they brought peace to the Middle East; and they have educated us to a high degree. They have given us the basis for the great scientific enterprise that we have sought to advance. They have given us the means by which to effect that great scientific enterprise. They have educated us to a high degree. They have given us the means of universal suffrage. They have given us the means of an education system free from interference by special interests. They have given us the means of a health care system that is free from artificial exceptions. They have given us the means of an education system that is fair to all. They have given us the means of a system to be sure to preserve a certain quality of life for all and to be sure to\n",
            "====================\n",
            "Title: Advise for Americans\n",
            "Date: Jan 13, 2021 2:30 am\n",
            "Tags: Disagreement, Web/Tech\n",
            "Number of comments: 23\n",
            "People often like to believe that America is strong but be aware that, to their understanding, it has been weakened by the war and is no more than an arm's length away. The most important fact about America, they believe, is that it is one of the few nations on earth with which the vast majority of its people are not oppressed by a single war and no death. They also know that the war has not yet fully closed the door on new American colonies in the South American countries, Nicaragua, Costa Rica, and Chile ( where the war continues ) and that, in fact, the war has already opened the door for new colonies in Chile and Bolivia, and that the spread of that new nation to the new countries would be met with, would be inordinately great for the benefit of all, except perhaps the few who now reside in those countries. There is much reason to believe that a new and exciting interest will ensue from the new country and that the war-migration which has so far been anticipated will continue to be one of the great sources of income for the vast majority of the American people. It is important to acknowledge that the war has not yet fully closed that door, and that it may yet open it again, so that the prosperity of the world may not be threatened by\n",
            "====================\n",
            "Title: Advise for Americans\n",
            "Date: Jan 13, 2021 2:30 am\n",
            "Tags: Disagreement, Web/Tech\n",
            "Number of comments: 23\n",
            "People often like to believe that America is strong but be aware that even a mere glance at a map can change the facts. This is not quite true. As we have already observed, the great body of our national history has been composed of states, each divided into distinct territories, with different constitutions and systems of government. Although the National Constitution had its basis in principle, it had never been framed in such a way as to permit the States to take as many as they please as a majority of the whole people to rule according to their own particular constitutions. To illustrate, suppose we were to have a question in common with other states, viz: Is it right to enslave the negroes in any of the States? Some would say so. Some would not so much say as to say so. What then? We may be permitted to have slavery in any State, but we must make the adjustment in the Constitution as a class between parties to the Union and the people, such as are entitled to the privilege of voting in the Union. In other words: Is it right to make the negroes in any State, or to any class of persons, entitled to the same privileges, immunities, and immunities as any other person. Is it right to make them into slaves? Some would say\n",
            "====================\n",
            "Title: Advise for Americans\n",
            "Date: Jan 13, 2021 2:30 am\n",
            "Tags: Disagreement, Web/Tech\n",
            "Number of comments: 23\n",
            "People often like to believe that America is strong but be aware that the Web, the Web is not as strong as it could be. This Web has been destroyed, but it can be revived. The Web can not be revived, because it has been created. We can revive it, but we must first destroy the Web. This Web must be rebuilt. Our old friends, the old foes, must be brought to an end, and the Web must be thrown to the fire. If we do not destroy it, we can do it better. If we do destroy it, we can do it better than before. Our friends who now taunt us as disloyal and treacherous, even for the sake of peace, will have none of it. They will have it all. They will throw it to the fire, or else at least burn the Web and put it out of the fire. All this would be a crime against God, and against man. All this would be just. All this, however, would be just against ourselves, and against our kindreds, and against all mankind. All this, therefore, would be just against ourselves. The Web, therefore, must be destroyed; and if we destroy it, we can do it better than before. Let us begin by laying down our arms and submitting\n",
            "====================\n",
            "Title: Advise for Americans\n",
            "Date: Jan 13, 2021 2:30 am\n",
            "Tags: Disagreement, Web/Tech\n",
            "Number of comments: 23\n",
            "People often like to believe that America is strong but be aware that the strongest nation in the world is only a nation of small children, divorced and single. We know this to be false. We know that the strength of the United States is its military, navy, and army. But how can this be? It is not possible to have a strong country with a military superior to that of the United States. To have a strong country, to possess a navy superior to that of the United States, it must be that nation itself. To have a strong navy, it must be a navy of a navy greater than the sum of its parts. We know it to be wrong to suppose that the strength of a nation is its navy. It is not our navy that is indispensable to that nation; it is the men of that nation, and their ability to carry them so far as to carry them safely and safely through the world, that make our navy so vital. To have a navy of this sort indispensable to a nation is not to say that it is unimportant, but rather that it is indispensable, to the very nation it is concerned with essential. To have a navy indispensable to a nation is really indispensable to itself, to the whole of the whole of the whole, to a great extent. The whole\n",
            "====================\n"
          ],
          "name": "stdout"
        }
      ]
    },
    {
      "cell_type": "markdown",
      "metadata": {
        "id": "zjjEN2Tafhl2"
      },
      "source": [
        "### Create File for Text\n",
        "For bulk generation, you can generate a large amount of text to a file and sort out the samples locally on your computer. The next cell will generate a generated text file with a unique timestamp.\n",
        "\n",
        "You can rerun the cells as many times as you want for even more generated texts!"
      ]
    },
    {
      "cell_type": "code",
      "metadata": {
        "id": "Fa6p6arifSL0"
      },
      "source": [
        "gen_file = 'gpt2_gentext_{:%Y%m%d_%H%M%S}.txt'.format(datetime.utcnow())\n",
        "\n",
        "gpt2.generate_to_file(sess,\n",
        "                      destination_path=gen_file,\n",
        "                      length=500,\n",
        "                      temperature=0.7,\n",
        "                      nsamples=100,\n",
        "                      batch_size=20\n",
        "                      )"
      ],
      "execution_count": null,
      "outputs": []
    },
    {
      "cell_type": "code",
      "metadata": {
        "id": "0-LRex8lfv1g",
        "colab": {
          "base_uri": "https://localhost:8080/",
          "height": 17
        },
        "outputId": "8967b7c2-e82b-4c21-ed93-ed059bc4a6e8"
      },
      "source": [
        "# may have to run twice to get file to download\n",
        "files.download(gen_file)"
      ],
      "execution_count": null,
      "outputs": [
        {
          "output_type": "display_data",
          "data": {
            "application/javascript": [
              "\n",
              "    async function download(id, filename, size) {\n",
              "      if (!google.colab.kernel.accessAllowed) {\n",
              "        return;\n",
              "      }\n",
              "      const div = document.createElement('div');\n",
              "      const label = document.createElement('label');\n",
              "      label.textContent = `Downloading \"${filename}\": `;\n",
              "      div.appendChild(label);\n",
              "      const progress = document.createElement('progress');\n",
              "      progress.max = size;\n",
              "      div.appendChild(progress);\n",
              "      document.body.appendChild(div);\n",
              "\n",
              "      const buffers = [];\n",
              "      let downloaded = 0;\n",
              "\n",
              "      const channel = await google.colab.kernel.comms.open(id);\n",
              "      // Send a message to notify the kernel that we're ready.\n",
              "      channel.send({})\n",
              "\n",
              "      for await (const message of channel.messages) {\n",
              "        // Send a message to notify the kernel that we're ready.\n",
              "        channel.send({})\n",
              "        if (message.buffers) {\n",
              "          for (const buffer of message.buffers) {\n",
              "            buffers.push(buffer);\n",
              "            downloaded += buffer.byteLength;\n",
              "            progress.value = downloaded;\n",
              "          }\n",
              "        }\n",
              "      }\n",
              "      const blob = new Blob(buffers, {type: 'application/binary'});\n",
              "      const a = document.createElement('a');\n",
              "      a.href = window.URL.createObjectURL(blob);\n",
              "      a.download = filename;\n",
              "      div.appendChild(a);\n",
              "      a.click();\n",
              "      div.remove();\n",
              "    }\n",
              "  "
            ],
            "text/plain": [
              "<IPython.core.display.Javascript object>"
            ]
          },
          "metadata": {
            "tags": []
          }
        },
        {
          "output_type": "display_data",
          "data": {
            "application/javascript": [
              "download(\"download_5a738b8f-3ed7-4885-bb55-03a0a34b3abc\", \"gpt2_gentext_20210115_144602.txt\", 237375)"
            ],
            "text/plain": [
              "<IPython.core.display.Javascript object>"
            ]
          },
          "metadata": {
            "tags": []
          }
        }
      ]
    }
  ]
}